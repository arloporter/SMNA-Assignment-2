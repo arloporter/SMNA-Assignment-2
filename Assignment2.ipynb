{
  "cells": [
    {
      "cell_type": "code",
      "source": [
        "!pip install --upgrade twarc\n",
        "!pip install twarc-csv --user"
      ],
      "metadata": {
        "id": "MhhCyvRtZ4jO",
        "outputId": "9d6770f1-2047-4fd5-8305-439e59fd44e6",
        "colab": {
          "base_uri": "https://localhost:8080/"
        }
      },
      "execution_count": 1,
      "outputs": [
        {
          "output_type": "stream",
          "name": "stdout",
          "text": [
            "Looking in indexes: https://pypi.org/simple, https://us-python.pkg.dev/colab-wheels/public/simple/\n",
            "Collecting twarc\n",
            "  Downloading twarc-2.11.3-py3-none-any.whl (60 kB)\n",
            "\u001b[K     |████████████████████████████████| 60 kB 2.7 MB/s \n",
            "\u001b[?25hRequirement already satisfied: python-dateutil>=2.8 in /usr/local/lib/python3.7/dist-packages (from twarc) (2.8.2)\n",
            "Collecting click-plugins>=1\n",
            "  Downloading click_plugins-1.1.1-py2.py3-none-any.whl (7.5 kB)\n",
            "Collecting click-config-file>=0.6\n",
            "  Downloading click_config_file-0.6.0-py2.py3-none-any.whl (6.0 kB)\n",
            "Requirement already satisfied: tqdm>=4.62 in /usr/local/lib/python3.7/dist-packages (from twarc) (4.64.1)\n",
            "Collecting humanize>=3.9\n",
            "  Downloading humanize-4.4.0-py3-none-any.whl (106 kB)\n",
            "\u001b[K     |████████████████████████████████| 106 kB 8.4 MB/s \n",
            "\u001b[?25hRequirement already satisfied: requests-oauthlib>=1.3 in /usr/local/lib/python3.7/dist-packages (from twarc) (1.3.1)\n",
            "Requirement already satisfied: click<9,>=7 in /usr/local/lib/python3.7/dist-packages (from twarc) (7.1.2)\n",
            "Collecting configobj>=5.0.6\n",
            "  Downloading configobj-5.0.6.tar.gz (33 kB)\n",
            "Requirement already satisfied: six in /usr/local/lib/python3.7/dist-packages (from configobj>=5.0.6->click-config-file>=0.6->twarc) (1.15.0)\n",
            "Requirement already satisfied: importlib-metadata in /usr/local/lib/python3.7/dist-packages (from humanize>=3.9->twarc) (4.12.0)\n",
            "Requirement already satisfied: requests>=2.0.0 in /usr/local/lib/python3.7/dist-packages (from requests-oauthlib>=1.3->twarc) (2.23.0)\n",
            "Requirement already satisfied: oauthlib>=3.0.0 in /usr/local/lib/python3.7/dist-packages (from requests-oauthlib>=1.3->twarc) (3.2.0)\n",
            "Requirement already satisfied: certifi>=2017.4.17 in /usr/local/lib/python3.7/dist-packages (from requests>=2.0.0->requests-oauthlib>=1.3->twarc) (2022.6.15)\n",
            "Requirement already satisfied: idna<3,>=2.5 in /usr/local/lib/python3.7/dist-packages (from requests>=2.0.0->requests-oauthlib>=1.3->twarc) (2.10)\n",
            "Requirement already satisfied: urllib3!=1.25.0,!=1.25.1,<1.26,>=1.21.1 in /usr/local/lib/python3.7/dist-packages (from requests>=2.0.0->requests-oauthlib>=1.3->twarc) (1.24.3)\n",
            "Requirement already satisfied: chardet<4,>=3.0.2 in /usr/local/lib/python3.7/dist-packages (from requests>=2.0.0->requests-oauthlib>=1.3->twarc) (3.0.4)\n",
            "Requirement already satisfied: zipp>=0.5 in /usr/local/lib/python3.7/dist-packages (from importlib-metadata->humanize>=3.9->twarc) (3.8.1)\n",
            "Requirement already satisfied: typing-extensions>=3.6.4 in /usr/local/lib/python3.7/dist-packages (from importlib-metadata->humanize>=3.9->twarc) (4.1.1)\n",
            "Building wheels for collected packages: configobj\n",
            "  Building wheel for configobj (setup.py) ... \u001b[?25l\u001b[?25hdone\n",
            "  Created wheel for configobj: filename=configobj-5.0.6-py3-none-any.whl size=34547 sha256=d07561a94b826e037d394d58e3e7cae2d35a30f243d1b6f83b26c5322aeee969\n",
            "  Stored in directory: /root/.cache/pip/wheels/0d/c4/19/13d74440f2a571841db6b6e0a273694327498884dafb9cf978\n",
            "Successfully built configobj\n",
            "Installing collected packages: configobj, humanize, click-plugins, click-config-file, twarc\n",
            "  Attempting uninstall: humanize\n",
            "    Found existing installation: humanize 0.5.1\n",
            "    Uninstalling humanize-0.5.1:\n",
            "      Successfully uninstalled humanize-0.5.1\n",
            "Successfully installed click-config-file-0.6.0 click-plugins-1.1.1 configobj-5.0.6 humanize-4.4.0 twarc-2.11.3\n",
            "Looking in indexes: https://pypi.org/simple, https://us-python.pkg.dev/colab-wheels/public/simple/\n",
            "Collecting twarc-csv\n",
            "  Downloading twarc-csv-0.5.2.tar.gz (8.3 kB)\n",
            "Requirement already satisfied: twarc>=2.9.5 in /usr/local/lib/python3.7/dist-packages (from twarc-csv) (2.11.3)\n",
            "Requirement already satisfied: pandas>=1.2.5 in /usr/local/lib/python3.7/dist-packages (from twarc-csv) (1.3.5)\n",
            "Requirement already satisfied: more-itertools>=8.7.0 in /usr/local/lib/python3.7/dist-packages (from twarc-csv) (8.14.0)\n",
            "Requirement already satisfied: tqdm>=4.59.0 in /usr/local/lib/python3.7/dist-packages (from twarc-csv) (4.64.1)\n",
            "Requirement already satisfied: pytz>=2017.3 in /usr/local/lib/python3.7/dist-packages (from pandas>=1.2.5->twarc-csv) (2022.2.1)\n",
            "Requirement already satisfied: numpy>=1.17.3 in /usr/local/lib/python3.7/dist-packages (from pandas>=1.2.5->twarc-csv) (1.21.6)\n",
            "Requirement already satisfied: python-dateutil>=2.7.3 in /usr/local/lib/python3.7/dist-packages (from pandas>=1.2.5->twarc-csv) (2.8.2)\n",
            "Requirement already satisfied: six>=1.5 in /usr/local/lib/python3.7/dist-packages (from python-dateutil>=2.7.3->pandas>=1.2.5->twarc-csv) (1.15.0)\n",
            "Requirement already satisfied: click-plugins>=1 in /usr/local/lib/python3.7/dist-packages (from twarc>=2.9.5->twarc-csv) (1.1.1)\n",
            "Requirement already satisfied: humanize>=3.9 in /usr/local/lib/python3.7/dist-packages (from twarc>=2.9.5->twarc-csv) (4.4.0)\n",
            "Requirement already satisfied: click-config-file>=0.6 in /usr/local/lib/python3.7/dist-packages (from twarc>=2.9.5->twarc-csv) (0.6.0)\n",
            "Requirement already satisfied: requests-oauthlib>=1.3 in /usr/local/lib/python3.7/dist-packages (from twarc>=2.9.5->twarc-csv) (1.3.1)\n",
            "Requirement already satisfied: click<9,>=7 in /usr/local/lib/python3.7/dist-packages (from twarc>=2.9.5->twarc-csv) (7.1.2)\n",
            "Requirement already satisfied: configobj>=5.0.6 in /usr/local/lib/python3.7/dist-packages (from click-config-file>=0.6->twarc>=2.9.5->twarc-csv) (5.0.6)\n",
            "Requirement already satisfied: importlib-metadata in /usr/local/lib/python3.7/dist-packages (from humanize>=3.9->twarc>=2.9.5->twarc-csv) (4.12.0)\n",
            "Requirement already satisfied: oauthlib>=3.0.0 in /usr/local/lib/python3.7/dist-packages (from requests-oauthlib>=1.3->twarc>=2.9.5->twarc-csv) (3.2.0)\n",
            "Requirement already satisfied: requests>=2.0.0 in /usr/local/lib/python3.7/dist-packages (from requests-oauthlib>=1.3->twarc>=2.9.5->twarc-csv) (2.23.0)\n",
            "Requirement already satisfied: idna<3,>=2.5 in /usr/local/lib/python3.7/dist-packages (from requests>=2.0.0->requests-oauthlib>=1.3->twarc>=2.9.5->twarc-csv) (2.10)\n",
            "Requirement already satisfied: urllib3!=1.25.0,!=1.25.1,<1.26,>=1.21.1 in /usr/local/lib/python3.7/dist-packages (from requests>=2.0.0->requests-oauthlib>=1.3->twarc>=2.9.5->twarc-csv) (1.24.3)\n",
            "Requirement already satisfied: chardet<4,>=3.0.2 in /usr/local/lib/python3.7/dist-packages (from requests>=2.0.0->requests-oauthlib>=1.3->twarc>=2.9.5->twarc-csv) (3.0.4)\n",
            "Requirement already satisfied: certifi>=2017.4.17 in /usr/local/lib/python3.7/dist-packages (from requests>=2.0.0->requests-oauthlib>=1.3->twarc>=2.9.5->twarc-csv) (2022.6.15)\n",
            "Requirement already satisfied: zipp>=0.5 in /usr/local/lib/python3.7/dist-packages (from importlib-metadata->humanize>=3.9->twarc>=2.9.5->twarc-csv) (3.8.1)\n",
            "Requirement already satisfied: typing-extensions>=3.6.4 in /usr/local/lib/python3.7/dist-packages (from importlib-metadata->humanize>=3.9->twarc>=2.9.5->twarc-csv) (4.1.1)\n",
            "Building wheels for collected packages: twarc-csv\n",
            "  Building wheel for twarc-csv (setup.py) ... \u001b[?25l\u001b[?25hdone\n",
            "  Created wheel for twarc-csv: filename=twarc_csv-0.5.2-py3-none-any.whl size=9668 sha256=29bd2dcf019b575c58ba694eae3803ce4a4df429cd07a2ba3b91e3837287a054\n",
            "  Stored in directory: /root/.cache/pip/wheels/8b/da/29/686e584f0162297399d799af5306e4f559960bafb385ba5755\n",
            "Successfully built twarc-csv\n",
            "Installing collected packages: twarc-csv\n",
            "Successfully installed twarc-csv-0.5.2\n"
          ]
        }
      ]
    },
    {
      "cell_type": "code",
      "execution_count": null,
      "metadata": {
        "id": "W3_wXyzAALty"
      },
      "outputs": [],
      "source": [
        "import nltk, numpy, pandas, os, sys, random, time, twarc\n",
        "import matplotlib.pyplot as plt\n",
        "nltk.download('stopwords')"
      ]
    },
    {
      "cell_type": "markdown",
      "source": [
        "BEARER: AAAAAAAAAAAAAAAAAAAAAFkmfgEAAAAADcgLX%2B3II8bI4oZ7dDWTGfqEsis%3DckGXQZEmb9y5fkhZR34eXvdatbiWSSg4vCxZla4pmfGXndZCD2   \n",
        "\n",
        "API KEY: hPOI2LgsaW5vylwt0AmCXLHXA   \n",
        "\n",
        "API SECRET: mcNe4tlYUKhmDOWmB4ixZN7qYSfTD71Z6KAU08rxtletApPxnr  \n",
        "\n",
        "ACCESS TOKEN: 1430421232239796227-BctF5asyBRXL3xoLioeq7Q0iWeiQV0  \n",
        "\n",
        "ACCESS SECRET: OK5KkazmfZSUWJoZ142trqFDac350T7H2bt7K1WxmTD8N\n",
        "\n",
        "\n"
      ],
      "metadata": {
        "id": "ZRiQIPjkb-WC"
      }
    },
    {
      "cell_type": "code",
      "source": [
        "!twarc2 configure"
      ],
      "metadata": {
        "id": "sB_SKMw_brYt",
        "outputId": "5b9f3214-be87-422d-ddb7-971ccfda19ff",
        "colab": {
          "base_uri": "https://localhost:8080/"
        }
      },
      "execution_count": 3,
      "outputs": [
        {
          "output_type": "stream",
          "name": "stdout",
          "text": [
            "\n",
            "👋  Hi I don't see a configuration file yet, so let's make one.\n",
            "\n",
            "Please follow these steps:\n",
            "\n",
            "1. visit https://developer.twitter.com/en/portal/\n",
            "2. create a project and an app\n",
            "3. go to your Keys and Tokens and generate your keys\n",
            "\n",
            "Please enter your Bearer Token (leave blank to skip to API key configuration): AAAAAAAAAAAAAAAAAAAAAFkmfgEAAAAADcgLX%2B3II8bI4oZ7dDWTGfqEsis%3DckGXQZEmb9y5fkhZR34eXvdatbiWSSg4vCxZla4pmfGXndZCD2\n",
            "(Optional) Add API keys and secrets for user mode authentication [y or n]? y\n",
            "Please enter your API key: hPOI2LgsaW5vylwt0AmCXLHXA\n",
            "Please enter your API secret: mcNe4tlYUKhmDOWmB4ixZN7qYSfTD71Z6KAU08rxtletApPxnr\n",
            "\n",
            "How would you like twarc to obtain your user keys?\n",
            "\n",
            "1) generate access keys by visiting Twitter\n",
            "2) manually enter your access token and secret\n",
            "\n",
            "Please enter your choice [1 or 2] 2\n",
            "Enter your Access Token: 12Avzkh84Z7Ng3HbQGfo1iu2KHK4gShWH4LiaELbxhbppjDQ\n",
            "Enter your Access Token Secret: mcNe4tlYUKhmDOWmB4ixZN7qYSfTD71Z6KAU08rxtletApPxnr ACCESS TOKEN: 1430421232239796227-BctF5asyBRXL3xoLioeq7Q0iWeiQV0 ACCESS SECRET: OK5KkazmfZSUWJoZ142trqFDac350T7H2bt7K1WxmTD8N\n",
            "\u001b[32m\n",
            "Your keys have been written to /root/.config/twarc/config\u001b[0m\n",
            "\n",
            "\n",
            "✨ ✨ ✨  Happy twarcing! ✨ ✨ ✨\n",
            "\n"
          ]
        }
      ]
    },
    {
      "cell_type": "code",
      "source": [
        "!twarc2 search \"russia OR ukraine OR donbass OR luhansk OR crimea OR kherson OR kharkiv OR putin OR zelensky OR zaporizhzhia\" ./ukrain_REST.jsonl --start-time 2022-09-15 --end-time 2022-09-21 --limit 1000000\n",
        "!twarc2 stream-rules add \"donbass\"\n",
        "!twarc2 stream-rules add \"russia\"\n",
        "!twarc2 stream-rules add \"ukraine\"\n",
        "!twarc2 stream-rules add \"luhansk\"\n",
        "!twarc2 stream-rules add \"crimea\"\n",
        "!twarc2 stream-rules add \"kherson\"\n",
        "!twarc2 stream-rules add \"kharkiv\"\n",
        "!twarc2 stream-rules add \"putin\"\n",
        "!twarc2 stream-rules add \"zelensky\"\n",
        "!twarc2 stream-rules add \"zaporizhzhia\"\n",
        "!twarc2 stream > ukrain_STREAM.jsonl"
      ],
      "metadata": {
        "id": "JjWx4IcUaVVV",
        "outputId": "6c5dc358-9bf0-43a6-9aec-2b91fbe1652e",
        "colab": {
          "base_uri": "https://localhost:8080/"
        }
      },
      "execution_count": 8,
      "outputs": [
        {
          "output_type": "stream",
          "name": "stdout",
          "text": [
            "  1% 5242782/518400000 [13:47<22:30:05, 6334.85it/s]\n",
            "\u001b[33m⚡ \u001b[0m\u001b[31mInvalid 'start_time':'2022-09-15T00:00Z'. 'start_time' must be on or after 2022-09-15T00:03Z\u001b[0m\n"
          ]
        }
      ]
    },
    {
      "cell_type": "code",
      "source": [
        "!twarc2 flatten ukrain_REST.jsonl ukraine_REST.jsonl\n",
        "!twarc2 flatten ukrain_STREAM.jsonl ukraine_STREAM.jsonl\n",
        "\n",
        "!rm ukrain_REST.jsonl\n",
        "!rm ukrain_STREAM.jsonl\n",
        "\n",
        "!twarc2 csv ukraine_REST.jsonl ukraine_REST.csv\n",
        "!twarc2 csv ukraine_STREAM.jsonl ukraine_STREAM.csv"
      ],
      "metadata": {
        "id": "4eFrSqozn6xz",
        "outputId": "5f900012-b552-4754-a243-f8f32a8e0be6",
        "colab": {
          "base_uri": "https://localhost:8080/"
        }
      },
      "execution_count": 9,
      "outputs": [
        {
          "output_type": "stream",
          "name": "stdout",
          "text": [
            "100% 245M/245M [00:17<00:00, 14.9MB/s]\n"
          ]
        }
      ]
    }
  ],
  "metadata": {
    "kernelspec": {
      "display_name": "Python 3.7.8 64-bit",
      "language": "python",
      "name": "python3"
    },
    "language_info": {
      "name": "python",
      "version": "3.7.8"
    },
    "orig_nbformat": 4,
    "vscode": {
      "interpreter": {
        "hash": "0c2c0728834e98fba8ef2763de91a8998e3b855325c3db51fe2a3f796681a481"
      }
    },
    "colab": {
      "provenance": []
    }
  },
  "nbformat": 4,
  "nbformat_minor": 0
}