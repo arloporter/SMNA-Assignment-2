{
  "cells": [
    {
      "cell_type": "code",
      "execution_count": null,
      "metadata": {
        "id": "W3_wXyzAALty"
      },
      "outputs": [],
      "source": [
        "import nltk, numpy, pandas, os, sys, random, time\n",
        "import matplotlib.pyplot as plt\n",
        "\n"
      ]
    }
  ],
  "metadata": {
    "kernelspec": {
      "display_name": "Python 3.7.8 64-bit",
      "language": "python",
      "name": "python3"
    },
    "language_info": {
      "name": "python",
      "version": "3.7.8"
    },
    "orig_nbformat": 4,
    "vscode": {
      "interpreter": {
        "hash": "0c2c0728834e98fba8ef2763de91a8998e3b855325c3db51fe2a3f796681a481"
      }
    },
    "colab": {
      "provenance": []
    }
  },
  "nbformat": 4,
  "nbformat_minor": 0
}