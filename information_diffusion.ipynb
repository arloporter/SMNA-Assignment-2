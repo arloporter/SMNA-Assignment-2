{
  "cells": [
    {
      "cell_type": "markdown",
      "metadata": {
        "id": "H0-JGnsbP9xi"
      },
      "source": [
        "# Convert communities to jsonl so twarc can convert them back to a edgelist"
      ]
    },
    {
      "cell_type": "code",
      "execution_count": 4,
      "metadata": {
        "id": "ai3NYmnkP9xq",
        "outputId": "5d9dd9bc-f4d3-470f-fee6-929d80f740b8",
        "colab": {
          "base_uri": "https://localhost:8080/"
        }
      },
      "outputs": [
        {
          "output_type": "stream",
          "name": "stdout",
          "text": [
            "Looking in indexes: https://pypi.org/simple, https://us-python.pkg.dev/colab-wheels/public/simple/\n",
            "Collecting twarc\n",
            "  Downloading twarc-2.12.0-py3-none-any.whl (60 kB)\n",
            "\u001b[K     |████████████████████████████████| 60 kB 5.5 MB/s \n",
            "\u001b[?25hRequirement already satisfied: requests-oauthlib>=1.3 in /usr/local/lib/python3.7/dist-packages (from twarc) (1.3.1)\n",
            "Collecting humanize>=3.9\n",
            "  Downloading humanize-4.4.0-py3-none-any.whl (106 kB)\n",
            "\u001b[K     |████████████████████████████████| 106 kB 29.5 MB/s \n",
            "\u001b[?25hRequirement already satisfied: click<9,>=7 in /usr/local/lib/python3.7/dist-packages (from twarc) (7.1.2)\n",
            "Collecting click-config-file>=0.6\n",
            "  Downloading click_config_file-0.6.0-py2.py3-none-any.whl (6.0 kB)\n",
            "Collecting click-plugins>=1\n",
            "  Downloading click_plugins-1.1.1-py2.py3-none-any.whl (7.5 kB)\n",
            "Requirement already satisfied: tqdm>=4.62 in /usr/local/lib/python3.7/dist-packages (from twarc) (4.64.1)\n",
            "Requirement already satisfied: python-dateutil>=2.8 in /usr/local/lib/python3.7/dist-packages (from twarc) (2.8.2)\n",
            "Collecting configobj>=5.0.6\n",
            "  Downloading configobj-5.0.6.tar.gz (33 kB)\n",
            "Requirement already satisfied: six in /usr/local/lib/python3.7/dist-packages (from configobj>=5.0.6->click-config-file>=0.6->twarc) (1.15.0)\n",
            "Requirement already satisfied: importlib-metadata in /usr/local/lib/python3.7/dist-packages (from humanize>=3.9->twarc) (5.0.0)\n",
            "Requirement already satisfied: requests>=2.0.0 in /usr/local/lib/python3.7/dist-packages (from requests-oauthlib>=1.3->twarc) (2.23.0)\n",
            "Requirement already satisfied: oauthlib>=3.0.0 in /usr/local/lib/python3.7/dist-packages (from requests-oauthlib>=1.3->twarc) (3.2.1)\n",
            "Requirement already satisfied: idna<3,>=2.5 in /usr/local/lib/python3.7/dist-packages (from requests>=2.0.0->requests-oauthlib>=1.3->twarc) (2.10)\n",
            "Requirement already satisfied: chardet<4,>=3.0.2 in /usr/local/lib/python3.7/dist-packages (from requests>=2.0.0->requests-oauthlib>=1.3->twarc) (3.0.4)\n",
            "Requirement already satisfied: certifi>=2017.4.17 in /usr/local/lib/python3.7/dist-packages (from requests>=2.0.0->requests-oauthlib>=1.3->twarc) (2022.9.24)\n",
            "Requirement already satisfied: urllib3!=1.25.0,!=1.25.1,<1.26,>=1.21.1 in /usr/local/lib/python3.7/dist-packages (from requests>=2.0.0->requests-oauthlib>=1.3->twarc) (1.24.3)\n",
            "Requirement already satisfied: typing-extensions>=3.6.4 in /usr/local/lib/python3.7/dist-packages (from importlib-metadata->humanize>=3.9->twarc) (4.1.1)\n",
            "Requirement already satisfied: zipp>=0.5 in /usr/local/lib/python3.7/dist-packages (from importlib-metadata->humanize>=3.9->twarc) (3.9.0)\n",
            "Building wheels for collected packages: configobj\n",
            "  Building wheel for configobj (setup.py) ... \u001b[?25l\u001b[?25hdone\n",
            "  Created wheel for configobj: filename=configobj-5.0.6-py3-none-any.whl size=34547 sha256=da2d647e154d180a98acad1d6304fceb94b9dce1f3e2fb68b91a62fc6dd2b155\n",
            "  Stored in directory: /root/.cache/pip/wheels/0d/c4/19/13d74440f2a571841db6b6e0a273694327498884dafb9cf978\n",
            "Successfully built configobj\n",
            "Installing collected packages: configobj, humanize, click-plugins, click-config-file, twarc\n",
            "  Attempting uninstall: humanize\n",
            "    Found existing installation: humanize 0.5.1\n",
            "    Uninstalling humanize-0.5.1:\n",
            "      Successfully uninstalled humanize-0.5.1\n",
            "Successfully installed click-config-file-0.6.0 click-plugins-1.1.1 configobj-5.0.6 humanize-4.4.0 twarc-2.12.0\n"
          ]
        }
      ],
      "source": [
        "import pandas as pd\n",
        "import networkx as nx\n",
        "import os, json\n",
        "!pip install twarc\n",
        "from twarc.expansions import ensure_flattened\n",
        "import subprocess\n",
        "done = True\n",
        "if not done:\n",
        "  jsonls = []\n",
        "  for file in os.listdir('./'):\n",
        "      if file.endswith('.csv'):\n",
        "          df = pd.read_csv(file) \n",
        "          valid_ids = set(df[\"id\"])\n",
        "\n",
        "          with open(\"ukraine_stream_big.jsonl\", \"r\") as infile: \n",
        "              with open(f\"{file}.jsonl\", \"w\") as outfile: \n",
        "                  jsonls.append(f\"{file}.jsonl\")\n",
        "                  for line in infile: \n",
        "                      for tweet in ensure_flattened(json.loads(line)): \n",
        "                          if int(tweet[\"id\"]) in valid_ids: \n",
        "                              outfile.write(json.dumps(tweet)+\"\\n\")\n",
        "\n",
        "\n",
        "  for file in jsonls:\n",
        "      csv_users = file[:-6]+'_users_' + '.csv'\n",
        "      subprocess.call(['twarc2', 'network', file, '--format', 'csv', csv_users, '--min-component-size', '5'])\n",
        "      csv_tweets = file[:-6]+'_tweets_'+'.csv'\n",
        "      subprocess.call(['twarc2', 'network', file, '--format', 'csv', csv_tweets, '--min-component-size', '5', '--nodes', 'tweets'])\n",
        "      csv_tags = file[:-6]+'_tags_'+'.csv'\n",
        "      subprocess.call(['twarc2', 'network', file, '--format', 'csv', csv_tags, '--min-component-size', '5', '--nodes', 'hashtags'])\n"
      ]
    },
    {
      "cell_type": "code",
      "execution_count": null,
      "metadata": {
        "id": "UpEzElU0P9xv",
        "outputId": "1996f6f2-7d30-4348-dc30-b07436516c97"
      },
      "outputs": [
        {
          "name": "stdout",
          "output_type": "stream",
          "text": [
            "community111.csv_tags_.csv\n",
            "   Unnamed: 0                     source      target  weight\n",
            "0           0                     #Putin   #Zelenski     288\n",
            "1           1                     #Putin    #Ucrania      20\n",
            "2           2                     #Putin   #Zelenzsy      20\n",
            "3           3                     #Putin  #Occidente       1\n",
            "4           4  #BedroomSessionsRadioShow      #Rusia       6\n",
            "community111.csv_tweets_.csv\n",
            "   Unnamed: 0        source        target    tweet\n",
            "0           0  1.573014e+18  1.572984e+18    reply\n",
            "1           1  1.573014e+18  1.572612e+18  retweet\n",
            "2           2  1.573015e+18  1.572654e+18  retweet\n",
            "3           3  1.573015e+18  1.573004e+18  retweet\n",
            "4           4  1.573015e+18  1.572925e+18  retweet\n",
            "community111.csv_users_.csv\n",
            "community51.csv_tags_.csv\n",
            "   Unnamed: 0    source              target  weight\n",
            "0           0  #Ukraine             #Tigray    1409\n",
            "1           1  #Ukraine           #Ethiopia      93\n",
            "2           2  #Ukraine          #Palestine       2\n",
            "3           3  #Ukraine         #UkraineWar       2\n",
            "4           4  #Ukraine  #UkraineRussianWar       2\n",
            "community51.csv_tweets_.csv\n",
            "   Unnamed: 0        source        target    tweet\n",
            "0           0  1.573014e+18  1.573002e+18  retweet\n",
            "1           1  1.573014e+18  1.572995e+18  retweet\n",
            "2           2  1.573014e+18  1.573013e+18  retweet\n",
            "3           3  1.573014e+18  1.573002e+18  retweet\n",
            "4           4  1.573014e+18  1.573012e+18  retweet\n",
            "community51.csv_users_.csv\n"
          ]
        }
      ],
      "source": [
        "for file in os.listdir('./'):\n",
        "    if '_users_' in file:\n",
        "        print(file)\n",
        "        df = pd.read_csv(file, names=['source', 'target', 'weight', 'retweet', 'reply', 'quote', 'mention'])\n",
        "        df['weight'] = df['weight'].map(lambda y: [int(x) for x in y.split() if x.isdigit()][0])\n",
        "        df['retweet'] = df['retweet'].map(lambda y: [int(x) for x in y.split() if x.isdigit()][0])\n",
        "        df['reply'] = df['reply'].map(lambda y: [int(x) for x in y.split() if x.isdigit()][0])\n",
        "        df['quote'] = df['quote'].map(lambda y: [int(x) for x in y.split() if x.isdigit()][0])\n",
        "        graph = nx.from_pandas_edgelist(df)\n",
        "        df.to_csv(file)\n",
        "        nx.write_gexf(graph, f\"{file}_users_.gexf\")\n",
        "    if '_tweets_' in file:\n",
        "        print(file)\n",
        "        df = pd.read_csv(file)\n",
        "        df['tweet'] = df['tweet'].map(lambda y: eval(y)['type'])\n",
        "        print(df.head())\n",
        "        graph = nx.from_pandas_edgelist(df)\n",
        "        df.to_csv(file)\n",
        "        nx.write_gexf(graph, f\"{file}_tweets_.gexf\")\n",
        "    if '_tags_' in file:\n",
        "        print(file)\n",
        "        df = pd.read_csv(file)\n",
        "        df['weight'] = df['weight'].map(lambda y: eval(y)['weight'])\n",
        "        print(df.head())\n",
        "        graph = nx.from_pandas_edgelist(df)\n",
        "        df.to_csv(file)\n",
        "        nx.write_gexf(graph, f\"{file}.gexf\")\n",
        "        "
      ]
    },
    {
      "cell_type": "markdown",
      "metadata": {
        "id": "k6ddVggwP9xx"
      },
      "source": [
        "# information cascades\n"
      ]
    },
    {
      "cell_type": "code",
      "source": [
        "from google.colab import drive\n",
        "drive.mount('/content/drive/')"
      ],
      "metadata": {
        "id": "0WoKn78tQVLB"
      },
      "execution_count": null,
      "outputs": []
    },
    {
      "cell_type": "code",
      "source": [
        "#!pip install ndlib\n",
        "import networkx as nx\n",
        "import ndlib.models.ModelConfig as mc\n",
        "import ndlib.models.epidemics as ep\n",
        "\n",
        "edgelist = pd.read_csv('/content/drive/MyDrive/stream_big_edgelist.csv', names = ['index', 'source', 'target', 'weight', 'retweet', 'reply', 'quote', 'mention'])\n",
        "\n",
        "edgelist = edgelist.iloc[1:]\n",
        "print(edgelist.head())\n",
        "graph = nx.from_pandas_edgelist(edgelist)\n",
        "model = ep.IndependentCascadesModel(graph)\n",
        "config = mc.Configuration()\n",
        "config.add_model_parameter('fraction_infected', 0.1)\n",
        "threshold = 0.1\n",
        "for edge in graph.edges():\n",
        "    config.add_edge_configuration(\"threshold\", edge, threshold)\n",
        "\n",
        "model.set_initial_status(config)\n",
        "iterations = model.iteration_bunch(200)\n",
        "print(iterations)"
      ],
      "metadata": {
        "id": "_4Vi5qZeQD9h",
        "outputId": "8b09452c-bfd0-4497-c0b2-0a1385fdd8d4",
        "colab": {
          "base_uri": "https://localhost:8080/"
        }
      },
      "execution_count": null,
      "outputs": [
        {
          "output_type": "stream",
          "name": "stderr",
          "text": [
            "/usr/local/lib/python3.7/dist-packages/IPython/core/interactiveshell.py:3326: DtypeWarning: Columns (3,4,5,6) have mixed types.Specify dtype option on import or set low_memory=False.\n",
            "  exec(code_obj, self.user_global_ns, self.user_ns)\n"
          ]
        },
        {
          "output_type": "stream",
          "name": "stdout",
          "text": [
            "   index         source           target weight retweet reply quote  \\\n",
            "1    0.0  antti_ellonen       EndGameWW3      1       1     0     0   \n",
            "2    1.0     EndGameWW3     CarlaBabbVOA      1       1     0     0   \n",
            "3    2.0     EndGameWW3     laraseligman      1       1     0     0   \n",
            "4    3.0     EndGameWW3  PentagonPresSec      1       0     0     0   \n",
            "5    4.0     EndGameWW3        Liveuamap      1       1     0     0   \n",
            "\n",
            "          mention  \n",
            "1   'mention': 0}  \n",
            "2   'mention': 0}  \n",
            "3   'mention': 0}  \n",
            "4   'mention': 1}  \n",
            "5   'mention': 0}  \n"
          ]
        }
      ]
    }
  ],
  "metadata": {
    "kernelspec": {
      "display_name": "Python 3.9.12 ('base')",
      "language": "python",
      "name": "python3"
    },
    "language_info": {
      "codemirror_mode": {
        "name": "ipython",
        "version": 3
      },
      "file_extension": ".py",
      "mimetype": "text/x-python",
      "name": "python",
      "nbconvert_exporter": "python",
      "pygments_lexer": "ipython3",
      "version": "3.9.12"
    },
    "orig_nbformat": 4,
    "vscode": {
      "interpreter": {
        "hash": "0922385216c2384f31190554b3bde2d497dc7ba4e166eada6ff2c309b47fae1a"
      }
    },
    "colab": {
      "provenance": []
    }
  },
  "nbformat": 4,
  "nbformat_minor": 0
}