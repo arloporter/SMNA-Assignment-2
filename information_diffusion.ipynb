{
  "cells": [
    {
      "cell_type": "markdown",
      "metadata": {
        "id": "H0-JGnsbP9xi"
      },
      "source": [
        "# Convert communities to jsonl so twarc can convert them back to a edgelist"
      ]
    },
    {
      "cell_type": "code",
      "execution_count": 4,
      "metadata": {
        "colab": {
          "base_uri": "https://localhost:8080/"
        },
        "id": "ai3NYmnkP9xq",
        "outputId": "5d9dd9bc-f4d3-470f-fee6-929d80f740b8"
      },
      "outputs": [
        {
          "output_type": "stream",
          "name": "stdout",
          "text": [
            "Looking in indexes: https://pypi.org/simple, https://us-python.pkg.dev/colab-wheels/public/simple/\n",
            "Collecting twarc\n",
            "  Downloading twarc-2.12.0-py3-none-any.whl (60 kB)\n",
            "\u001b[K     |████████████████████████████████| 60 kB 5.5 MB/s \n",
            "\u001b[?25hRequirement already satisfied: requests-oauthlib>=1.3 in /usr/local/lib/python3.7/dist-packages (from twarc) (1.3.1)\n",
            "Collecting humanize>=3.9\n",
            "  Downloading humanize-4.4.0-py3-none-any.whl (106 kB)\n",
            "\u001b[K     |████████████████████████████████| 106 kB 29.5 MB/s \n",
            "\u001b[?25hRequirement already satisfied: click<9,>=7 in /usr/local/lib/python3.7/dist-packages (from twarc) (7.1.2)\n",
            "Collecting click-config-file>=0.6\n",
            "  Downloading click_config_file-0.6.0-py2.py3-none-any.whl (6.0 kB)\n",
            "Collecting click-plugins>=1\n",
            "  Downloading click_plugins-1.1.1-py2.py3-none-any.whl (7.5 kB)\n",
            "Requirement already satisfied: tqdm>=4.62 in /usr/local/lib/python3.7/dist-packages (from twarc) (4.64.1)\n",
            "Requirement already satisfied: python-dateutil>=2.8 in /usr/local/lib/python3.7/dist-packages (from twarc) (2.8.2)\n",
            "Collecting configobj>=5.0.6\n",
            "  Downloading configobj-5.0.6.tar.gz (33 kB)\n",
            "Requirement already satisfied: six in /usr/local/lib/python3.7/dist-packages (from configobj>=5.0.6->click-config-file>=0.6->twarc) (1.15.0)\n",
            "Requirement already satisfied: importlib-metadata in /usr/local/lib/python3.7/dist-packages (from humanize>=3.9->twarc) (5.0.0)\n",
            "Requirement already satisfied: requests>=2.0.0 in /usr/local/lib/python3.7/dist-packages (from requests-oauthlib>=1.3->twarc) (2.23.0)\n",
            "Requirement already satisfied: oauthlib>=3.0.0 in /usr/local/lib/python3.7/dist-packages (from requests-oauthlib>=1.3->twarc) (3.2.1)\n",
            "Requirement already satisfied: idna<3,>=2.5 in /usr/local/lib/python3.7/dist-packages (from requests>=2.0.0->requests-oauthlib>=1.3->twarc) (2.10)\n",
            "Requirement already satisfied: chardet<4,>=3.0.2 in /usr/local/lib/python3.7/dist-packages (from requests>=2.0.0->requests-oauthlib>=1.3->twarc) (3.0.4)\n",
            "Requirement already satisfied: certifi>=2017.4.17 in /usr/local/lib/python3.7/dist-packages (from requests>=2.0.0->requests-oauthlib>=1.3->twarc) (2022.9.24)\n",
            "Requirement already satisfied: urllib3!=1.25.0,!=1.25.1,<1.26,>=1.21.1 in /usr/local/lib/python3.7/dist-packages (from requests>=2.0.0->requests-oauthlib>=1.3->twarc) (1.24.3)\n",
            "Requirement already satisfied: typing-extensions>=3.6.4 in /usr/local/lib/python3.7/dist-packages (from importlib-metadata->humanize>=3.9->twarc) (4.1.1)\n",
            "Requirement already satisfied: zipp>=0.5 in /usr/local/lib/python3.7/dist-packages (from importlib-metadata->humanize>=3.9->twarc) (3.9.0)\n",
            "Building wheels for collected packages: configobj\n",
            "  Building wheel for configobj (setup.py) ... \u001b[?25l\u001b[?25hdone\n",
            "  Created wheel for configobj: filename=configobj-5.0.6-py3-none-any.whl size=34547 sha256=da2d647e154d180a98acad1d6304fceb94b9dce1f3e2fb68b91a62fc6dd2b155\n",
            "  Stored in directory: /root/.cache/pip/wheels/0d/c4/19/13d74440f2a571841db6b6e0a273694327498884dafb9cf978\n",
            "Successfully built configobj\n",
            "Installing collected packages: configobj, humanize, click-plugins, click-config-file, twarc\n",
            "  Attempting uninstall: humanize\n",
            "    Found existing installation: humanize 0.5.1\n",
            "    Uninstalling humanize-0.5.1:\n",
            "      Successfully uninstalled humanize-0.5.1\n",
            "Successfully installed click-config-file-0.6.0 click-plugins-1.1.1 configobj-5.0.6 humanize-4.4.0 twarc-2.12.0\n"
          ]
        }
      ],
      "source": [
        "import pandas as pd\n",
        "import networkx as nx\n",
        "import os, json\n",
        "!pip install twarc\n",
        "from twarc.expansions import ensure_flattened\n",
        "import subprocess\n",
        "done = True\n",
        "if not done:\n",
        "  jsonls = []\n",
        "  for file in os.listdir('./'):\n",
        "      if file.endswith('.csv'):\n",
        "          df = pd.read_csv(file) \n",
        "          valid_ids = set(df[\"id\"])\n",
        "\n",
        "          with open(\"ukraine_stream_big.jsonl\", \"r\") as infile: \n",
        "              with open(f\"{file}.jsonl\", \"w\") as outfile: \n",
        "                  jsonls.append(f\"{file}.jsonl\")\n",
        "                  for line in infile: \n",
        "                      for tweet in ensure_flattened(json.loads(line)): \n",
        "                          if int(tweet[\"id\"]) in valid_ids: \n",
        "                              outfile.write(json.dumps(tweet)+\"\\n\")\n",
        "\n",
        "\n",
        "  for file in jsonls:\n",
        "      csv_users = file[:-6]+'_users_' + '.csv'\n",
        "      subprocess.call(['twarc2', 'network', file, '--format', 'csv', csv_users, '--min-component-size', '5'])\n",
        "      csv_tweets = file[:-6]+'_tweets_'+'.csv'\n",
        "      subprocess.call(['twarc2', 'network', file, '--format', 'csv', csv_tweets, '--min-component-size', '5', '--nodes', 'tweets'])\n",
        "      csv_tags = file[:-6]+'_tags_'+'.csv'\n",
        "      subprocess.call(['twarc2', 'network', file, '--format', 'csv', csv_tags, '--min-component-size', '5', '--nodes', 'hashtags'])\n"
      ]
    },
    {
      "cell_type": "code",
      "execution_count": null,
      "metadata": {
        "id": "UpEzElU0P9xv",
        "outputId": "1996f6f2-7d30-4348-dc30-b07436516c97"
      },
      "outputs": [
        {
          "name": "stdout",
          "output_type": "stream",
          "text": [
            "community111.csv_tags_.csv\n",
            "   Unnamed: 0                     source      target  weight\n",
            "0           0                     #Putin   #Zelenski     288\n",
            "1           1                     #Putin    #Ucrania      20\n",
            "2           2                     #Putin   #Zelenzsy      20\n",
            "3           3                     #Putin  #Occidente       1\n",
            "4           4  #BedroomSessionsRadioShow      #Rusia       6\n",
            "community111.csv_tweets_.csv\n",
            "   Unnamed: 0        source        target    tweet\n",
            "0           0  1.573014e+18  1.572984e+18    reply\n",
            "1           1  1.573014e+18  1.572612e+18  retweet\n",
            "2           2  1.573015e+18  1.572654e+18  retweet\n",
            "3           3  1.573015e+18  1.573004e+18  retweet\n",
            "4           4  1.573015e+18  1.572925e+18  retweet\n",
            "community111.csv_users_.csv\n",
            "community51.csv_tags_.csv\n",
            "   Unnamed: 0    source              target  weight\n",
            "0           0  #Ukraine             #Tigray    1409\n",
            "1           1  #Ukraine           #Ethiopia      93\n",
            "2           2  #Ukraine          #Palestine       2\n",
            "3           3  #Ukraine         #UkraineWar       2\n",
            "4           4  #Ukraine  #UkraineRussianWar       2\n",
            "community51.csv_tweets_.csv\n",
            "   Unnamed: 0        source        target    tweet\n",
            "0           0  1.573014e+18  1.573002e+18  retweet\n",
            "1           1  1.573014e+18  1.572995e+18  retweet\n",
            "2           2  1.573014e+18  1.573013e+18  retweet\n",
            "3           3  1.573014e+18  1.573002e+18  retweet\n",
            "4           4  1.573014e+18  1.573012e+18  retweet\n",
            "community51.csv_users_.csv\n"
          ]
        }
      ],
      "source": [
        "for file in os.listdir('./'):\n",
        "    if '_users_' in file:\n",
        "        print(file)\n",
        "        df = pd.read_csv(file, names=['source', 'target', 'weight', 'retweet', 'reply', 'quote', 'mention'])\n",
        "        df['weight'] = df['weight'].map(lambda y: [int(x) for x in y.split() if x.isdigit()][0])\n",
        "        df['retweet'] = df['retweet'].map(lambda y: [int(x) for x in y.split() if x.isdigit()][0])\n",
        "        df['reply'] = df['reply'].map(lambda y: [int(x) for x in y.split() if x.isdigit()][0])\n",
        "        df['quote'] = df['quote'].map(lambda y: [int(x) for x in y.split() if x.isdigit()][0])\n",
        "        graph = nx.from_pandas_edgelist(df)\n",
        "        df.to_csv(file)\n",
        "        nx.write_gexf(graph, f\"{file}_users_.gexf\")\n",
        "    if '_tweets_' in file:\n",
        "        print(file)\n",
        "        df = pd.read_csv(file)\n",
        "        df['tweet'] = df['tweet'].map(lambda y: eval(y)['type'])\n",
        "        print(df.head())\n",
        "        graph = nx.from_pandas_edgelist(df)\n",
        "        df.to_csv(file)\n",
        "        nx.write_gexf(graph, f\"{file}_tweets_.gexf\")\n",
        "    if '_tags_' in file:\n",
        "        print(file)\n",
        "        df = pd.read_csv(file)\n",
        "        df['weight'] = df['weight'].map(lambda y: eval(y)['weight'])\n",
        "        print(df.head())\n",
        "        graph = nx.from_pandas_edgelist(df)\n",
        "        df.to_csv(file)\n",
        "        nx.write_gexf(graph, f\"{file}.gexf\")\n",
        "        "
      ]
    },
    {
      "cell_type": "markdown",
      "metadata": {
        "id": "k6ddVggwP9xx"
      },
      "source": [
        "# information cascades\n"
      ]
    },
    {
      "cell_type": "code",
      "source": [
        "from google.colab import drive\n",
        "import matplotlib.pyplot as plt\n",
        "%matplotlib inline\n",
        "import seaborn as sns\n",
        "drive.mount('/content/drive/')\n",
        "\n",
        "edgelist = pd.read_csv('/content/drive/MyDrive/stream_big_edgelist.csv', names = ['index', 'source', 'target', 'weight', 'retweet', 'reply', 'quote', 'mention'])\n",
        "edgelist = edgelist.iloc[1:]\n",
        "\n",
        "edgelist['weight'] = pd.to_numeric(edgelist['weight'])\n",
        "edgelist = edgelist.sort_values(by='weight', ascending=False)\n",
        "print(edgelist['weight'].value_counts())\n",
        "plt.hist(edgelist['weight'], bins=200)\n",
        "plt.xlim([0, 25])\n",
        "plt.xlabel('weight')\n",
        "plt.ylabel('count')\n",
        "plt.show()\n",
        "\n"
      ],
      "metadata": {
        "colab": {
          "base_uri": "https://localhost:8080/",
          "height": 527
        },
        "id": "0WoKn78tQVLB",
        "outputId": "f70033a1-f411-4adb-c085-05cf3b6c8990"
      },
      "execution_count": 72,
      "outputs": [
        {
          "output_type": "stream",
          "name": "stdout",
          "text": [
            "Drive already mounted at /content/drive/; to attempt to forcibly remount, call drive.mount(\"/content/drive/\", force_remount=True).\n",
            "1      352065\n",
            "2      128814\n",
            "3       17486\n",
            "4       11061\n",
            "5        3205\n",
            "        ...  \n",
            "57          1\n",
            "55          1\n",
            "248         1\n",
            "45          1\n",
            "251         1\n",
            "Name: weight, Length: 88, dtype: int64\n"
          ]
        },
        {
          "output_type": "display_data",
          "data": {
            "text/plain": [
              "<Figure size 432x288 with 1 Axes>"
            ],
            "image/png": "[encoded data removed]"
          },
          "metadata": {
            "needs_background": "light"
          }
        }
      ]
    },
    {
      "cell_type": "code",
      "source": [
        "#!pip install ndlib\n",
        "import networkx as nx\n",
        "import ndlib.models.ModelConfig as mc\n",
        "import ndlib.models.epidemics as ep\n",
        "from ndlib.viz.mpl.DiffusionTrend import DiffusionTrend\n",
        "\n",
        "print(edgelist.head())\n",
        "graph = nx.from_pandas_edgelist(edgelist, edge_attr='weight')\n",
        "model = ep.IndependentCascadesModel(graph)\n",
        "config = mc.Configuration()\n",
        "config.add_model_parameter('fraction_infected', 0.1)\n",
        "\n",
        "for edge in graph.edges():\n",
        "    config.add_edge_configuration(\"threshold\", edge, 0.5)\n",
        "\n",
        "model.set_initial_status(config)\n",
        "iterations = model.iteration_bunch(25)\n",
        "trends = model.build_trends(iterations)\n",
        "viz = DiffusionTrend(model, trends)\n",
        "viz.plot(\"diffusion0501.pdf\")"
      ],
      "metadata": {
        "colab": {
          "base_uri": "https://localhost:8080/",
          "height": 260
        },
        "id": "_4Vi5qZeQD9h",
        "outputId": "d78c8e44-3d74-4575-dc7b-b5baa9ea1f3e"
      },
      "execution_count": 73,
      "outputs": [
        {
          "output_type": "stream",
          "name": "stdout",
          "text": [
            "           index           source           target  weight retweet reply  \\\n",
            "243741  243740.0   BogeyInTheDark   RussianEmbassy     251       0   124   \n",
            "90593    90592.0     cathyjolly12   UN_News_Centre     248       0   124   \n",
            "433456  433455.0      EDIT_BY_iAM  KremlinRussia_E     192       0     9   \n",
            "84474    84473.0  JustinTrudeauDr       mfa_russia     169       6     4   \n",
            "1107      1106.0     fckPutainMan     Alice_Weidel     160       0    68   \n",
            "\n",
            "       quote           mention  \n",
            "243741     0   'mention': 127}  \n",
            "90593      0   'mention': 124}  \n",
            "433456     0   'mention': 183}  \n",
            "84474      0   'mention': 159}  \n",
            "1107       0    'mention': 92}  \n"
          ]
        },
        {
          "output_type": "display_data",
          "data": {
            "text/plain": [
              "<Figure size 1440x720 with 0 Axes>"
            ]
          },
          "metadata": {}
        }
      ]
    },
    {
      "cell_type": "markdown",
      "source": [
        "# use general threshold and use actual edge weights as transition probability\n"
      ],
      "metadata": {
        "id": "7Orh_ZI6YGAT"
      }
    },
    {
      "cell_type": "code",
      "source": [
        "model = ep.GeneralThresholdModel(graph)\n",
        "\n",
        "config = mc.Configuration()\n",
        "config.add_model_parameter('fraction_infected', 0.1)\n",
        "\n",
        "nodes = graph.nodes\n",
        "edges = graph.edges(data=True)\n",
        "\n",
        "for i in nodes:\n",
        "    config.add_node_configuration(\"threshold\", i, 0.01)\n",
        "for e in edges:\n",
        "    config.add_edge_configuration(\"weight\", (e[0], e[1]), e[2]['weight']/251)\n",
        "\n",
        "model.set_initial_status(config)\n",
        "iterations = model.iteration_bunch(50)\n",
        "trends = model.build_trends(iterations)\n",
        "viz = DiffusionTrend(model, trends)\n",
        "viz.plot(\"generalthreshold010o1.pdf\")"
      ],
      "metadata": {
        "id": "rxeP94mLWTCK"
      },
      "execution_count": 46,
      "outputs": []
    }
  ],
  "metadata": {
    "kernelspec": {
      "display_name": "Python 3.9.12 ('base')",
      "language": "python",
      "name": "python3"
    },
    "language_info": {
      "codemirror_mode": {
        "name": "ipython",
        "version": 3
      },
      "file_extension": ".py",
      "mimetype": "text/x-python",
      "name": "python",
      "nbconvert_exporter": "python",
      "pygments_lexer": "ipython3",
      "version": "3.9.12"
    },
    "orig_nbformat": 4,
    "vscode": {
      "interpreter": {
        "hash": "0922385216c2384f31190554b3bde2d497dc7ba4e166eada6ff2c309b47fae1a"
      }
    },
    "colab": {
      "provenance": []
    }
  },
  "nbformat": 4,
  "nbformat_minor": 0
}
