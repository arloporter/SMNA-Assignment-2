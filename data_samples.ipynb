{
  "nbformat": 4,
  "nbformat_minor": 0,
  "metadata": {
    "colab": {
      "provenance": [],
      "authorship_tag": "ABX9TyMOnynDjDcvrw7jLx8Uq/iY",
      "include_colab_link": true
    },
    "kernelspec": {
      "name": "python3",
      "display_name": "Python 3"
    },
    "language_info": {
      "name": "python"
    }
  },
  "cells": [
    {
      "cell_type": "markdown",
      "metadata": {
        "id": "view-in-github",
        "colab_type": "text"
      },
      "source": [
        "<a href=\"https://colab.research.google.com/github/arloporter/SMNA-Assignment-2/blob/main/data_samples.ipynb\" target=\"_parent\"><img src=\"https://colab.research.google.com/assets/colab-badge.svg\" alt=\"Open In Colab\"/></a>"
      ]
    },
    {
      "cell_type": "code",
      "execution_count": 1,
      "metadata": {
        "colab": {
          "base_uri": "https://localhost:8080/"
        },
        "id": "eayfVivOebbk",
        "outputId": "f033b92a-82fb-4910-87df-0c386c067265"
      },
      "outputs": [
        {
          "output_type": "stream",
          "name": "stdout",
          "text": [
            "Mounted at /content/drive/\n"
          ]
        }
      ],
      "source": [
        "import pandas as pd\n",
        "from google.colab import drive\n",
        "drive.mount('/content/drive/')"
      ]
    },
    {
      "cell_type": "code",
      "source": [
        "mobilization=pd.read_csv('/content/drive/MyDrive/ukraine_stream_big.csv')\n",
        "annex = pd.read_csv('/content/drive/MyDrive/annex.csv')\n",
        "mob_edgelist = pd.read_csv('/content/drive/MyDrive/stream_big_edgelist.csv')\n",
        "annex_edgelist = pd.read_csv('/content/drive/MyDrive/network_fixed.csv')\n",
        "\n",
        "mob_sample = mobilization.sample(n=100)\n",
        "annex_sample = annex.sample(n=100)\n",
        "mob_edge_sample = mob_edgelist.sample(n=100)\n",
        "annex_edge_sample = annex_edgelist.sample(n=100)\n",
        "\n",
        "mob_sample.to_csv('mobilisation_sample.csv')\n",
        "annex_sample.to_csv('annex_sample.csv')\n",
        "mob_edge_sample.to_csv('mobilisation_edgelist_sample.csv')\n",
        "annex_edge_sample.to_csv('annex_edgelist_sample.csv')"
      ],
      "metadata": {
        "colab": {
          "base_uri": "https://localhost:8080/"
        },
        "id": "UA0IOQOEgtLT",
        "outputId": "fc006307-03be-4e22-fabb-85a0ce0d3714"
      },
      "execution_count": 4,
      "outputs": [
        {
          "output_type": "stream",
          "name": "stderr",
          "text": [
            "/usr/local/lib/python3.7/dist-packages/IPython/core/interactiveshell.py:3326: DtypeWarning: Columns (23,41,58,59,60) have mixed types.Specify dtype option on import or set low_memory=False.\n",
            "  exec(code_obj, self.user_global_ns, self.user_ns)\n",
            "/usr/local/lib/python3.7/dist-packages/IPython/core/interactiveshell.py:3326: DtypeWarning: Columns (20,21,23,41,58,59,60) have mixed types.Specify dtype option on import or set low_memory=False.\n",
            "  exec(code_obj, self.user_global_ns, self.user_ns)\n"
          ]
        }
      ]
    }
  ]
}