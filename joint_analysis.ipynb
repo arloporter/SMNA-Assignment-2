{
  "nbformat": 4,
  "nbformat_minor": 0,
  "metadata": {
    "colab": {
      "provenance": [],
      "authorship_tag": "ABX9TyPagas6ZTYH1mNPE68j4wso",
      "include_colab_link": true
    },
    "kernelspec": {
      "name": "python3",
      "display_name": "Python 3"
    },
    "language_info": {
      "name": "python"
    }
  },
  "cells": [
    {
      "cell_type": "markdown",
      "metadata": {
        "id": "view-in-github",
        "colab_type": "text"
      },
      "source": [
        "<a href=\"https://colab.research.google.com/github/arloporter/SMNA-Assignment-2/blob/main/joint_analysis.ipynb\" target=\"_parent\"><img src=\"https://colab.research.google.com/assets/colab-badge.svg\" alt=\"Open In Colab\"/></a>"
      ]
    },
    {
      "cell_type": "code",
      "execution_count": 1,
      "metadata": {
        "id": "CvN68siyQA7r"
      },
      "outputs": [],
      "source": [
        "import pandas as pd\n",
        "import networkx as nx\n",
        "from google.colab import drive"
      ]
    },
    {
      "cell_type": "code",
      "source": [
        "drive.mount('/content/drive/')"
      ],
      "metadata": {
        "colab": {
          "base_uri": "https://localhost:8080/"
        },
        "id": "tI3C-agPQIon",
        "outputId": "69b2b766-5ed8-48eb-bafa-e14c6ac579a3"
      },
      "execution_count": 3,
      "outputs": [
        {
          "output_type": "stream",
          "name": "stdout",
          "text": [
            "Mounted at /content/drive/\n"
          ]
        }
      ]
    },
    {
      "cell_type": "code",
      "source": [
        "mobilization = pd.read_csv('/content/drive/MyDrive/stream_big_edgelist.csv')\n",
        "mobilization = mobilization.drop(\"Unnamed: 0\",axis=1)\n",
        "print(mobilization.head())\n",
        "\n",
        "\n",
        "annex = pd.read_csv('/content/drive/MyDrive/network_fixed.csv')\n",
        "print(annex.head())"
      ],
      "metadata": {
        "colab": {
          "base_uri": "https://localhost:8080/"
        },
        "id": "UQ4iT0jhQVh4",
        "outputId": "3cf3695e-044f-4908-d2c8-6124147fc9d6"
      },
      "execution_count": 12,
      "outputs": [
        {
          "output_type": "stream",
          "name": "stdout",
          "text": [
            "          Source           Target  Weight  Retweet  Reply  Quote  \\\n",
            "0  antti_ellonen       EndGameWW3       1        1      0      0   \n",
            "1     EndGameWW3     CarlaBabbVOA       1        1      0      0   \n",
            "2     EndGameWW3     laraseligman       1        1      0      0   \n",
            "3     EndGameWW3  PentagonPresSec       1        0      0      0   \n",
            "4     EndGameWW3        Liveuamap       1        1      0      0   \n",
            "\n",
            "          Mention  \n",
            "0   'mention': 0}  \n",
            "1   'mention': 0}  \n",
            "2   'mention': 0}  \n",
            "3   'mention': 1}  \n",
            "4   'mention': 0}  \n",
            "   Unnamed: 0          Source       Target  Weight  Retweet  Reply  Quote  \\\n",
            "0           0        Stewary_  BBCBreaking       1        1      0      0   \n",
            "1           1    thislifegood   SecBlinken       1        1      0      0   \n",
            "2           2  FrankieVallins     9NewsSyd       1        1      0      0   \n",
            "3           3        9NewsSyd  CGreenbank9       1        0      0      0   \n",
            "4           4        9NewsSyd     9NewsAUS       1        1      0      0   \n",
            "\n",
            "   Mention  \n",
            "0        0  \n",
            "1        0  \n",
            "2        0  \n",
            "3        1  \n",
            "4        0  \n"
          ]
        }
      ]
    },
    {
      "cell_type": "code",
      "source": [
        "def get_interactions(df):\n",
        "  interactions = {}\n",
        "  for index, row in df.iterrows():\n",
        "    if row['Source'] in interactions.keys():\n",
        "      interactions[row['Source']][0] += row['Weight']\n",
        "    if row['Target'] in interactions.keys():\n",
        "      interactions[row['Target']][1] += row['Weight']\n",
        "                   \n",
        "    if row['Source'] not in interactions.keys():\n",
        "      interactions[row['Source']] = [row['Weight'], 0]\n",
        "    if row['Target'] not in interactions.keys():\n",
        "      interactions[row['Target']] = [0, row['Weight']]\n",
        "  \n",
        "  out = []\n",
        "  for key, value in interactions.items():\n",
        "    out.append({'username': key, 'out_interactions': value[0], \"in_interactions\": value[1]})\n",
        "  \n",
        "  return out, interactions\n",
        "\n",
        "def intersection(mobilization, annex):\n",
        "  set1 = set(mobilization.keys())\n",
        "  set2 = set(annex.keys())\n",
        "  intersection = set1.intersection(set2)\n",
        "  out = []\n",
        "  for i in intersection:\n",
        "    out.append({'Name': i, 'mobilization_out': mobilization[i][0], \\\n",
        "                'mobilization_in': mobilization[i][1], 'annex_out':annex[i][0], \\\n",
        "                'annex_in': annex[i][1]})\n",
        "  return out\n",
        "    \n",
        "\n",
        "mob_for_pandas, mob_dict = get_interactions(mobilization)\n",
        "annex_for_pandas, annex_dict = get_interactions(annex)\n",
        "\n",
        "mobilization_df = pd.DataFrame(mob_for_pandas)\n",
        "annex_df = pd.DataFrame(annex_for_pandas)\n",
        "intersection_df = pd.DataFrame(intersection(mob_dict, annex_dict))"
      ],
      "metadata": {
        "id": "IEKeUcDlRvVA"
      },
      "execution_count": 19,
      "outputs": []
    },
    {
      "cell_type": "code",
      "source": [
        "print(mobilization_df.head())\n",
        "print(annex_df.head())\n",
        "print(intersection_df.head())"
      ],
      "metadata": {
        "colab": {
          "base_uri": "https://localhost:8080/"
        },
        "id": "aRB8ePQbURfX",
        "outputId": "f6e13043-d836-4108-c2b4-1a76d32bdaab"
      },
      "execution_count": 21,
      "outputs": [
        {
          "output_type": "stream",
          "name": "stdout",
          "text": [
            "          username  out_interactions  in_interactions\n",
            "0    antti_ellonen                 1                1\n",
            "1       EndGameWW3                15             1088\n",
            "2     CarlaBabbVOA                 6               21\n",
            "3     laraseligman                 7              186\n",
            "4  PentagonPresSec                 0               84\n",
            "         username  out_interactions  in_interactions\n",
            "0        Stewary_                 1                0\n",
            "1     BBCBreaking                 0              268\n",
            "2    thislifegood                 1                0\n",
            "3      SecBlinken                 0             2918\n",
            "4  FrankieVallins                 1                0\n",
            "              Name  mobilization_out  mobilization_in  annex_out  annex_in\n",
            "0    AlexanderHau1                 5                0          1         0\n",
            "1         xena1967                 4                0          1         0\n",
            "2       DecampDave                 0               60          0         2\n",
            "3        Julie5559                 3                0          1         0\n",
            "4  richardmskinner                 1                0          1         0\n"
          ]
        }
      ]
    },
    {
      "cell_type": "code",
      "source": [
        "mobilization_df = mobilization_df.sort_values(by='out_interactions', ascending=False)\n",
        "print(mobilization_df.head(10))"
      ],
      "metadata": {
        "colab": {
          "base_uri": "https://localhost:8080/"
        },
        "id": "sD2KkOipUZmt",
        "outputId": "17c8f3f3-03c9-40d5-b09a-39e775113ace"
      },
      "execution_count": 23,
      "outputs": [
        {
          "output_type": "stream",
          "name": "stdout",
          "text": [
            "             username  out_interactions  in_interactions\n",
            "5692      yammerapple              1361               84\n",
            "5693     FrankGeurts3              1264               92\n",
            "70855  BogeyInTheDark              1153                7\n",
            "26919        OM_VA_SH              1043                2\n",
            "36584    cathyjolly12               992                0\n"
          ]
        }
      ]
    },
    {
      "cell_type": "code",
      "source": [
        "mobilization_df = mobilization_df.sort_values(by='in_interactions', ascending=False)\n",
        "print(mobilization_df.head(10))"
      ],
      "metadata": {
        "colab": {
          "base_uri": "https://localhost:8080/"
        },
        "id": "3-QWxfO6YKp1",
        "outputId": "29b2e063-656b-4cbb-f214-14344483cdd3"
      },
      "execution_count": 24,
      "outputs": [
        {
          "output_type": "stream",
          "name": "stdout",
          "text": [
            "             username  out_interactions  in_interactions\n",
            "29    KyivIndependent                 1             8713\n",
            "83        WarMonitor3                 3             5794\n",
            "79         mfa_russia                 6             5647\n",
            "1505  KremlinRussia_E                 0             4235\n",
            "34         igorsushko                 3             4113\n"
          ]
        }
      ]
    },
    {
      "cell_type": "code",
      "source": [
        "annex_df = annex_df.sort_values(by='out_interactions', ascending=False)\n",
        "print(annex_df.head(10))"
      ],
      "metadata": {
        "colab": {
          "base_uri": "https://localhost:8080/"
        },
        "id": "-xCAplzXYRgC",
        "outputId": "da227462-23d8-4fe0-843d-b3c8a7fe622e"
      },
      "execution_count": 25,
      "outputs": [
        {
          "output_type": "stream",
          "name": "stdout",
          "text": [
            "              username  out_interactions  in_interactions\n",
            "7271   StevenG15689824               143                0\n",
            "18            EPPGroup                69              431\n",
            "9080         kevinoler                51                0\n",
            "3473     PaulStetson13                51                0\n",
            "1281           kurtmac                39                5\n",
            "1948   SerendipitySays                24                0\n",
            "352         a175ranger                20               12\n",
            "916    MariaSchenetzke                19                0\n",
            "1967      Messypouokam                18               16\n",
            "23866       asuarez115                18                0\n"
          ]
        }
      ]
    },
    {
      "cell_type": "code",
      "source": [
        "annex_df = annex_df.sort_values(by='in_interactions', ascending=False)\n",
        "print(annex_df.head(10))"
      ],
      "metadata": {
        "colab": {
          "base_uri": "https://localhost:8080/"
        },
        "id": "3GkbWgxaYbrt",
        "outputId": "ec876d12-c29e-40db-a514-1e467fdd6ac8"
      },
      "execution_count": 26,
      "outputs": [
        {
          "output_type": "stream",
          "name": "stdout",
          "text": [
            "           username  out_interactions  in_interactions\n",
            "22     DmytroKuleba                 0             5006\n",
            "97         trussliz                 0             3464\n",
            "3        SecBlinken                 0             2918\n",
            "69       disclosetv                 0             1948\n",
            "9    aintscarylarry                 0             1593\n",
            "11    anneapplebaum                 5             1522\n",
            "20     GlasnostGone                 6             1466\n",
            "60        SecYellen                 0              798\n",
            "141        business                 0              707\n",
            "58           McFaul                 3              615\n"
          ]
        }
      ]
    },
    {
      "cell_type": "code",
      "source": [
        "intersection_df = intersection_df.sort_values(by=['mobilization_out', 'mobilization_in', 'annex_out', 'annex_in'], ascending=False)\n",
        "print(intersection_df.head(10))"
      ],
      "metadata": {
        "colab": {
          "base_uri": "https://localhost:8080/"
        },
        "id": "YJbIJqNTYhC4",
        "outputId": "5dc49566-5063-46a7-b569-b9c4b35214ad"
      },
      "execution_count": 29,
      "outputs": [
        {
          "output_type": "stream",
          "name": "stdout",
          "text": [
            "                 Name  mobilization_out  mobilization_in  annex_out  annex_in\n",
            "6220   BogeyInTheDark              1153                7          1         0\n",
            "5189  MarxismCollapse               969               43          3         0\n",
            "7499  AndrzejGrochow7               434               18          8         0\n",
            "9911    ukraine_ua123               397               32          3         0\n",
            "602      Emma34770971               383              275          0         2\n",
            "4887          WJBMass               382              255          1         0\n",
            "8040         EMM_1969               301                1          1         0\n",
            "1963        B89243637               253               87          1         0\n",
            "5294     BertyGrumble               215               27          2         0\n",
            "1373    SanchezIberia               203                2          1         0\n"
          ]
        }
      ]
    },
    {
      "cell_type": "code",
      "source": [
        "print(len(intersection_df))\n",
        "print(len(annex_df))"
      ],
      "metadata": {
        "colab": {
          "base_uri": "https://localhost:8080/"
        },
        "id": "_kQMBOwuaHTt",
        "outputId": "fcb7f2d2-5c59-494a-f9d8-cf355d1257af"
      },
      "execution_count": 31,
      "outputs": [
        {
          "output_type": "stream",
          "name": "stdout",
          "text": [
            "10064\n",
            "26541\n"
          ]
        }
      ]
    }
  ]
}