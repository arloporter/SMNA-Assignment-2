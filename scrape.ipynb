{
 "cells": [
  {
   "cell_type": "code",
   "source": [
    "!pip install --upgrade twarc\n",
    "!pip install twarc-csv --user\n",
    "from google.colab import drive\n",
    "drive.mount('/content/drive')"
   ],
   "metadata": {
    "colab": {
     "base_uri": "https://localhost:8080/"
    },
    "id": "MhhCyvRtZ4jO",
    "outputId": "dc99027e-ea09-4227-cd99-53be7d98a590"
   },
   "execution_count": 2,
   "outputs": [
    {
     "name": "stdout",
     "output_type": "stream",
     "text": [
      "Requirement already satisfied: twarc in /home/soldier/anaconda3/lib/python3.8/site-packages (2.12.0)\r\n",
      "Requirement already satisfied: click-plugins>=1 in /home/soldier/anaconda3/lib/python3.8/site-packages (from twarc) (1.1.1)\r\n",
      "Requirement already satisfied: tqdm>=4.62 in /home/soldier/anaconda3/lib/python3.8/site-packages (from twarc) (4.64.1)\r\n",
      "Requirement already satisfied: click<9,>=7 in /home/soldier/anaconda3/lib/python3.8/site-packages (from twarc) (8.0.3)\r\n",
      "Requirement already satisfied: requests-oauthlib>=1.3 in /home/soldier/anaconda3/lib/python3.8/site-packages (from twarc) (1.3.1)\r\n",
      "Requirement already satisfied: python-dateutil>=2.8 in /home/soldier/.local/lib/python3.8/site-packages (from twarc) (2.8.2)\r\n",
      "Requirement already satisfied: click-config-file>=0.6 in /home/soldier/anaconda3/lib/python3.8/site-packages (from twarc) (0.6.0)\r\n",
      "Requirement already satisfied: humanize>=3.9 in /home/soldier/anaconda3/lib/python3.8/site-packages (from twarc) (4.3.0)\r\n",
      "Requirement already satisfied: configobj>=5.0.6 in /home/soldier/anaconda3/lib/python3.8/site-packages (from click-config-file>=0.6->twarc) (5.0.6)\r\n",
      "Requirement already satisfied: six in /home/soldier/anaconda3/lib/python3.8/site-packages (from configobj>=5.0.6->click-config-file>=0.6->twarc) (1.15.0)\r\n",
      "Requirement already satisfied: requests>=2.0.0 in /home/soldier/anaconda3/lib/python3.8/site-packages (from requests-oauthlib>=1.3->twarc) (2.25.1)\r\n",
      "Requirement already satisfied: oauthlib>=3.0.0 in /home/soldier/anaconda3/lib/python3.8/site-packages (from requests-oauthlib>=1.3->twarc) (3.2.0)\r\n",
      "Requirement already satisfied: idna<3,>=2.5 in /home/soldier/anaconda3/lib/python3.8/site-packages (from requests>=2.0.0->requests-oauthlib>=1.3->twarc) (2.10)\r\n",
      "Requirement already satisfied: certifi>=2017.4.17 in /home/soldier/anaconda3/lib/python3.8/site-packages (from requests>=2.0.0->requests-oauthlib>=1.3->twarc) (2020.12.5)\r\n",
      "Requirement already satisfied: urllib3<1.27,>=1.21.1 in /home/soldier/anaconda3/lib/python3.8/site-packages (from requests>=2.0.0->requests-oauthlib>=1.3->twarc) (1.26.4)\r\n",
      "Requirement already satisfied: chardet<5,>=3.0.2 in /home/soldier/anaconda3/lib/python3.8/site-packages (from requests>=2.0.0->requests-oauthlib>=1.3->twarc) (4.0.0)\r\n",
      "Requirement already satisfied: twarc-csv in /home/soldier/.local/lib/python3.8/site-packages (0.5.2)\r\n",
      "Requirement already satisfied: pandas>=1.2.5 in /home/soldier/anaconda3/lib/python3.8/site-packages (from twarc-csv) (1.3.5)\r\n",
      "Requirement already satisfied: twarc>=2.9.5 in /home/soldier/anaconda3/lib/python3.8/site-packages (from twarc-csv) (2.12.0)\r\n",
      "Requirement already satisfied: tqdm>=4.59.0 in /home/soldier/anaconda3/lib/python3.8/site-packages (from twarc-csv) (4.64.1)\r\n",
      "Requirement already satisfied: more-itertools>=8.7.0 in /home/soldier/anaconda3/lib/python3.8/site-packages (from twarc-csv) (8.7.0)\r\n",
      "Requirement already satisfied: numpy>=1.17.3 in /home/soldier/.local/lib/python3.8/site-packages (from pandas>=1.2.5->twarc-csv) (1.21.4)\r\n",
      "Requirement already satisfied: python-dateutil>=2.7.3 in /home/soldier/.local/lib/python3.8/site-packages (from pandas>=1.2.5->twarc-csv) (2.8.2)\r\n",
      "Requirement already satisfied: pytz>=2017.3 in /home/soldier/.local/lib/python3.8/site-packages (from pandas>=1.2.5->twarc-csv) (2022.1)\r\n",
      "Requirement already satisfied: six>=1.5 in /home/soldier/anaconda3/lib/python3.8/site-packages (from python-dateutil>=2.7.3->pandas>=1.2.5->twarc-csv) (1.15.0)\r\n",
      "Requirement already satisfied: click-plugins>=1 in /home/soldier/anaconda3/lib/python3.8/site-packages (from twarc>=2.9.5->twarc-csv) (1.1.1)\r\n",
      "Requirement already satisfied: click<9,>=7 in /home/soldier/anaconda3/lib/python3.8/site-packages (from twarc>=2.9.5->twarc-csv) (8.0.3)\r\n",
      "Requirement already satisfied: humanize>=3.9 in /home/soldier/anaconda3/lib/python3.8/site-packages (from twarc>=2.9.5->twarc-csv) (4.3.0)\r\n",
      "Requirement already satisfied: click-config-file>=0.6 in /home/soldier/anaconda3/lib/python3.8/site-packages (from twarc>=2.9.5->twarc-csv) (0.6.0)\r\n",
      "Requirement already satisfied: requests-oauthlib>=1.3 in /home/soldier/anaconda3/lib/python3.8/site-packages (from twarc>=2.9.5->twarc-csv) (1.3.1)\r\n",
      "Requirement already satisfied: configobj>=5.0.6 in /home/soldier/anaconda3/lib/python3.8/site-packages (from click-config-file>=0.6->twarc>=2.9.5->twarc-csv) (5.0.6)\r\n",
      "Requirement already satisfied: oauthlib>=3.0.0 in /home/soldier/anaconda3/lib/python3.8/site-packages (from requests-oauthlib>=1.3->twarc>=2.9.5->twarc-csv) (3.2.0)\r\n",
      "Requirement already satisfied: requests>=2.0.0 in /home/soldier/anaconda3/lib/python3.8/site-packages (from requests-oauthlib>=1.3->twarc>=2.9.5->twarc-csv) (2.25.1)\r\n",
      "Requirement already satisfied: chardet<5,>=3.0.2 in /home/soldier/anaconda3/lib/python3.8/site-packages (from requests>=2.0.0->requests-oauthlib>=1.3->twarc>=2.9.5->twarc-csv) (4.0.0)\r\n",
      "Requirement already satisfied: certifi>=2017.4.17 in /home/soldier/anaconda3/lib/python3.8/site-packages (from requests>=2.0.0->requests-oauthlib>=1.3->twarc>=2.9.5->twarc-csv) (2020.12.5)\r\n",
      "Requirement already satisfied: idna<3,>=2.5 in /home/soldier/anaconda3/lib/python3.8/site-packages (from requests>=2.0.0->requests-oauthlib>=1.3->twarc>=2.9.5->twarc-csv) (2.10)\r\n",
      "Requirement already satisfied: urllib3<1.27,>=1.21.1 in /home/soldier/anaconda3/lib/python3.8/site-packages (from requests>=2.0.0->requests-oauthlib>=1.3->twarc>=2.9.5->twarc-csv) (1.26.4)\r\n"
     ]
    },
    {
     "ename": "ModuleNotFoundError",
     "evalue": "No module named 'google.colab'",
     "output_type": "error",
     "traceback": [
      "\u001B[0;31m---------------------------------------------------------------------------\u001B[0m",
      "\u001B[0;31mModuleNotFoundError\u001B[0m                       Traceback (most recent call last)",
      "\u001B[0;32m<ipython-input-2-254bbc48d1c4>\u001B[0m in \u001B[0;36m<module>\u001B[0;34m\u001B[0m\n\u001B[1;32m      1\u001B[0m \u001B[0mget_ipython\u001B[0m\u001B[0;34m(\u001B[0m\u001B[0;34m)\u001B[0m\u001B[0;34m.\u001B[0m\u001B[0msystem\u001B[0m\u001B[0;34m(\u001B[0m\u001B[0;34m'pip install --upgrade twarc'\u001B[0m\u001B[0;34m)\u001B[0m\u001B[0;34m\u001B[0m\u001B[0;34m\u001B[0m\u001B[0m\n\u001B[1;32m      2\u001B[0m \u001B[0mget_ipython\u001B[0m\u001B[0;34m(\u001B[0m\u001B[0;34m)\u001B[0m\u001B[0;34m.\u001B[0m\u001B[0msystem\u001B[0m\u001B[0;34m(\u001B[0m\u001B[0;34m'pip install twarc-csv --user'\u001B[0m\u001B[0;34m)\u001B[0m\u001B[0;34m\u001B[0m\u001B[0;34m\u001B[0m\u001B[0m\n\u001B[0;32m----> 3\u001B[0;31m \u001B[0;32mfrom\u001B[0m \u001B[0mgoogle\u001B[0m\u001B[0;34m.\u001B[0m\u001B[0mcolab\u001B[0m \u001B[0;32mimport\u001B[0m \u001B[0mdrive\u001B[0m\u001B[0;34m\u001B[0m\u001B[0;34m\u001B[0m\u001B[0m\n\u001B[0m\u001B[1;32m      4\u001B[0m \u001B[0mdrive\u001B[0m\u001B[0;34m.\u001B[0m\u001B[0mmount\u001B[0m\u001B[0;34m(\u001B[0m\u001B[0;34m'/content/drive'\u001B[0m\u001B[0;34m)\u001B[0m\u001B[0;34m\u001B[0m\u001B[0;34m\u001B[0m\u001B[0m\n",
      "\u001B[0;31mModuleNotFoundError\u001B[0m: No module named 'google.colab'"
     ]
    }
   ]
  },
  {
   "cell_type": "code",
   "execution_count": null,
   "metadata": {
    "id": "W3_wXyzAALty",
    "colab": {
     "base_uri": "https://localhost:8080/"
    },
    "outputId": "7df7566c-0dbd-4381-ad4b-b9723d96e686"
   },
   "outputs": [],
   "source": [
    "import nltk, numpy, pandas, os, sys, random, time, twarc\n",
    "import matplotlib.pyplot as plt\n",
    "import pandas as pd\n",
    "nltk.download('stopwords')"
   ]
  },
  {
   "cell_type": "markdown",
   "source": [
    "BEARER: AAAAAAAAAAAAAAAAAAAAAFkmfgEAAAAADcgLX%2B3II8bI4oZ7dDWTGfqEsis%3DckGXQZEmb9y5fkhZR34eXvdatbiWSSg4vCxZla4pmfGXndZCD2   \n",
    "\n",
    "API KEY: hPOI2LgsaW5vylwt0AmCXLHXA   \n",
    "\n",
    "API SECRET: mcNe4tlYUKhmDOWmB4ixZN7qYSfTD71Z6KAU08rxtletApPxnr  \n",
    "\n",
    "ACCESS TOKEN: 1430421232239796227-BctF5asyBRXL3xoLioeq7Q0iWeiQV0  \n",
    "\n",
    "ACCESS SECRET: OK5KkazmfZSUWJoZ142trqFDac350T7H2bt7K1WxmTD8N\n",
    "\n",
    "\n",
    "Luke Mason twitter\n",
    "\n",
    "BEARER: AAAAAAAAAAAAAAAAAAAAAInkhgEAAAAAIlihzwYTRc%2FOKOj5lpJvVlMyg0A%3D0Zi1PFgx9DVL0MWwvxMkXgvnVU4sFSpwNy1maDfsJOSDtHU6n7\n",
    "\n",
    "API KEY: qghf7oBzVnfwtDRm5axXJKrnb\n",
    "\n",
    "API SECRET: XMHLTo1BcUyez1vDtQZea6rNh4RIhpUqasJFeqrBgcUpIPJvyQ\n",
    "\n",
    "ACCESS TOKEN:\n",
    "\n",
    "ACCESS SECRET:\n"
   ],
   "metadata": {
    "id": "ZRiQIPjkb-WC"
   }
  },
  {
   "cell_type": "code",
   "source": [
    "!twarc2 configure"
   ],
   "metadata": {
    "colab": {
     "base_uri": "https://localhost:8080/"
    },
    "id": "sB_SKMw_brYt",
    "outputId": "5b9f3214-be87-422d-ddb7-971ccfda19ff"
   },
   "execution_count": null,
   "outputs": []
  },
  {
   "cell_type": "code",
   "source": [
    "!twarc2 search \"russia AND putin AND annex OR annexation OR annexes OR annexed AND ukraine OR eastern\" ./ukrain_REST.jsonl --start-time 2022-09-30 --end-time 2022-10-2 --limit 1000000\n",
    "!twarc2 stream-rules add \"annex\"\n",
    "!twarc2 stream-rules add \"russia\"\n",
    "!twarc2 stream-rules add \"putin\"\n",
    "!twarc2 stream-rules add \"eastern ukraine\"\n",
    "\n",
    "!twarc2 stream > ukrain_STREAM.jsonl"
   ],
   "metadata": {
    "colab": {
     "base_uri": "https://localhost:8080/"
    },
    "id": "JjWx4IcUaVVV",
    "outputId": "6c5dc358-9bf0-43a6-9aec-2b91fbe1652e"
   },
   "execution_count": 3,
   "outputs": [
    {
     "name": "stdout",
     "output_type": "stream",
     "text": [
      "\r\n",
      "👋  Hi I don't see a configuration file yet, so let's make one.\r\n",
      "\r\n",
      "Please follow these steps:\r\n",
      "\r\n",
      "1. visit https://developer.twitter.com/en/portal/\r\n",
      "2. create a project and an app\r\n",
      "3. go to your Keys and Tokens and generate your keys\r\n",
      "\r\n",
      "Please enter your Bearer Token (leave blank to skip to API key configuration): ^C\r\n",
      "\r\n",
      "Aborted!\r\n",
      "\r\n",
      "👋  Hi I don't see a configuration file yet, so let's make one.\r\n",
      "\r\n",
      "Please follow these steps:\r\n",
      "\r\n",
      "1. visit https://developer.twitter.com/en/portal/\r\n",
      "2. create a project and an app\r\n",
      "3. go to your Keys and Tokens and generate your keys\r\n",
      "\r\n",
      "Please enter your Bearer Token (leave blank to skip to API key configuration): ^C\r\n",
      "\r\n",
      "Aborted!\r\n",
      "\r\n",
      "👋  Hi I don't see a configuration file yet, so let's make one.\r\n",
      "\r\n",
      "Please follow these steps:\r\n",
      "\r\n",
      "1. visit https://developer.twitter.com/en/portal/\r\n",
      "2. create a project and an app\r\n",
      "3. go to your Keys and Tokens and generate your keys\r\n",
      "\r\n",
      "Please enter your Bearer Token (leave blank to skip to API key configuration): ^C\r\n",
      "\r\n",
      "Aborted!\r\n",
      "\r\n",
      "👋  Hi I don't see a configuration file yet, so let's make one.\r\n",
      "\r\n",
      "Please follow these steps:\r\n",
      "\r\n",
      "1. visit https://developer.twitter.com/en/portal/\r\n",
      "2. create a project and an app\r\n",
      "3. go to your Keys and Tokens and generate your keys\r\n",
      "\r\n",
      "Please enter your Bearer Token (leave blank to skip to API key configuration): ^C\r\n",
      "\r\n",
      "Aborted!\r\n",
      "^C\r\n",
      "Traceback (most recent call last):\r\n",
      "  File \"/home/soldier/anaconda3/bin/twarc2\", line 5, in <module>\r\n",
      "    from twarc.command2 import twarc2\r\n",
      "  File \"/home/soldier/anaconda3/lib/python3.8/site-packages/twarc/__init__.py\", line 1, in <module>\r\n",
      "    from .client import Twarc\r\n",
      "  File \"/home/soldier/anaconda3/lib/python3.8/site-packages/twarc/client.py\", line 10, in <module>\r\n",
      "    import requests\r\n",
      "  File \"/home/soldier/anaconda3/lib/python3.8/site-packages/requests/__init__.py\", line 118, in <module>\r\n",
      "    from . import utils\r\n",
      "  File \"/home/soldier/anaconda3/lib/python3.8/site-packages/requests/utils.py\", line 19, in <module>\r\n",
      "    import tempfile\r\n",
      "  File \"/home/soldier/anaconda3/lib/python3.8/tempfile.py\", line 43, in <module>\r\n",
      "    import shutil as _shutil\r\n",
      "  File \"<frozen importlib._bootstrap>\", line 991, in _find_and_load\r\n",
      "  File \"<frozen importlib._bootstrap>\", line 971, in _find_and_load_unlocked\r\n",
      "  File \"<frozen importlib._bootstrap>\", line 906, in _find_spec\r\n",
      "  File \"<frozen importlib._bootstrap>\", line 863, in __enter__\r\n",
      "KeyboardInterrupt\r\n",
      "^C\r\n",
      "Traceback (most recent call last):\r\n",
      "  File \"/home/soldier/anaconda3/bin/twarc2\", line 5, in <module>\r\n",
      "    from twarc.command2 import twarc2\r\n",
      "  File \"/home/soldier/anaconda3/lib/python3.8/site-packages/twarc/command2.py\", line 25, in <module>\r\n",
      "    from pkg_resources import iter_entry_points\r\n",
      "  File \"/home/soldier/anaconda3/lib/python3.8/site-packages/pkg_resources/__init__.py\", line 3243, in <module>\r\n",
      "    def _initialize_master_working_set():\r\n",
      "  File \"/home/soldier/anaconda3/lib/python3.8/site-packages/pkg_resources/__init__.py\", line 3226, in _call_aside\r\n",
      "    f(*args, **kwargs)\r\n",
      "  File \"/home/soldier/anaconda3/lib/python3.8/site-packages/pkg_resources/__init__.py\", line 3278, in _initialize_master_working_set\r\n",
      "    list(map(working_set.add_entry, sys.path))\r\n",
      "  File \"/home/soldier/anaconda3/lib/python3.8/site-packages/pkg_resources/__init__.py\", line 608, in add_entry\r\n",
      "    for dist in find_distributions(entry, True):\r\n",
      "  File \"/home/soldier/anaconda3/lib/python3.8/site-packages/pkg_resources/__init__.py\", line 2059, in find_on_path\r\n",
      "    path_item_entries = _by_version_descending(filtered)\r\n",
      "  File \"/home/soldier/anaconda3/lib/python3.8/site-packages/pkg_resources/__init__.py\", line 2029, in _by_version_descending\r\n",
      "    return sorted(names, key=_by_version, reverse=True)\r\n",
      "  File \"/home/soldier/anaconda3/lib/python3.8/site-packages/pkg_resources/_vendor/packaging/version.py\", line 84, in __eq__\r\n",
      "    return self._compare(other, lambda s, o: s == o)\r\n",
      "KeyboardInterrupt\r\n"
     ]
    }
   ]
  },
  {
   "cell_type": "code",
   "source": [
    "#!twarc2 flatten /content/drive/MyDrive/ukraine_REST.jsonl /content/drive/MyDrive/ukraine_REST_flat.jsonl\n",
    "#!twarc2 flatten /content/drive/MyDrive/ukraine_STREAM.jsonl /content/drive/MyDrive/ukraine_STREAM_flat.jsonl"
   ],
   "metadata": {
    "colab": {
     "base_uri": "https://localhost:8080/"
    },
    "id": "4eFrSqozn6xz",
    "outputId": "84094838-6b88-4450-f998-6c63ef4631b6"
   },
   "execution_count": 16,
   "outputs": [
    {
     "output_type": "stream",
     "name": "stdout",
     "text": [
      "100% 633M/633M [01:19<00:00, 8.34MB/s]\n",
      "\u001B[33m⚡ \u001B[0m\u001B[31mUnterminated string starting at: line 1 column 3807 (char 3806)\u001B[0m\n"
     ]
    }
   ]
  },
  {
   "cell_type": "code",
   "source": [
    "!pip3 install twarc-network\n",
    "!twarc2 network /content/drive/MyDrive/ukraine_STREAM_flat.jsonl --format csv network.csv --min-component-size 30"
   ],
   "metadata": {
    "colab": {
     "base_uri": "https://localhost:8080/"
    },
    "id": "wf-D_FgHwHoe",
    "outputId": "ef2e5aa2-2c11-4533-d8e9-975ccde11d71"
   },
   "execution_count": 36,
   "outputs": [
    {
     "output_type": "stream",
     "name": "stdout",
     "text": [
      "\n",
      "Aborted!\n"
     ]
    }
   ]
  },
  {
   "cell_type": "code",
   "source": [
    "stream_df = pd.read_csv('/content/drive/MyDrive/network_stream.csv', names=['Source', 'Target', 'Weight', 'Retweet', 'Reply', 'Quote', 'Mention'])\n",
    "stream_df = stream_df.drop(['Mention'], axis=1)\n",
    "stream_df['Weight'] = stream_df['Weight'].map(lambda y: [int(x) for x in y.split() if x.isdigit()][0])\n",
    "stream_df['Retweet'] = stream_df['Retweet'].map(lambda y: [int(x) for x in y.split() if x.isdigit()][0])\n",
    "stream_df['Reply'] = stream_df['Reply'].map(lambda y: [int(x) for x in y.split() if x.isdigit()][0])\n",
    "stream_df['Quote'] = stream_df['Quote'].map(lambda y: [int(x) for x in y.split() if x.isdigit()][0])"
   ],
   "metadata": {
    "colab": {
     "base_uri": "https://localhost:8080/"
    },
    "id": "26zUSvko-_Kh",
    "outputId": "e69fa038-5f32-4953-9857-c842ca3b5c2f"
   },
   "execution_count": 4,
   "outputs": [
    {
     "output_type": "stream",
     "name": "stdout",
     "text": [
      "Mounted at /content/drive\n"
     ]
    }
   ]
  },
  {
   "cell_type": "code",
   "source": [
    "net = nx.from_pandas_edgelist(stream_df, source=\"Source\", target=\"Target\", edge_attr='Weight', create_using=nx.DiGraph())\n",
    "cugraph.draw(net, with_labels=True, node_size=60,font_size=8)\n",
    "plt.figure(figsize=(200,200)) \n",
    "plt.show()"
   ],
   "metadata": {
    "colab": {
     "base_uri": "https://localhost:8080/",
     "height": 968
    },
    "id": "VY30muvU_b5N",
    "outputId": "ddf64eb9-2293-4e38-de63-98d1216ccad1"
   },
   "execution_count": 8,
   "outputs": [
    {
     "output_type": "stream",
     "name": "stdout",
     "text": [
      "Looking in indexes: https://pypi.org/simple, https://us-python.pkg.dev/colab-wheels/public/simple/\n",
      "Collecting cugraph\n",
      "  Using cached cugraph-0.6.1.post1.tar.gz (1.1 kB)\n",
      "  Preparing metadata (setup.py) ... \u001B[?25l\u001B[?25hdone\n",
      "Building wheels for collected packages: cugraph\n",
      "  \u001B[1;31merror\u001B[0m: \u001B[1msubprocess-exited-with-error\u001B[0m\n",
      "  \n",
      "  \u001B[31m×\u001B[0m \u001B[32mpython setup.py bdist_wheel\u001B[0m did not run successfully.\n",
      "  \u001B[31m│\u001B[0m exit code: \u001B[1;36m1\u001B[0m\n",
      "  \u001B[31m╰─>\u001B[0m See above for output.\n",
      "  \n",
      "  \u001B[1;35mnote\u001B[0m: This error originates from a subprocess, and is likely not a problem with pip.\n",
      "  Building wheel for cugraph (setup.py) ... \u001B[?25lerror\n",
      "\u001B[31m  ERROR: Failed building wheel for cugraph\u001B[0m\u001B[31m\n",
      "\u001B[0m\u001B[?25h  Running setup.py clean for cugraph\n",
      "Failed to build cugraph\n",
      "Installing collected packages: cugraph\n",
      "  \u001B[1;31merror\u001B[0m: \u001B[1msubprocess-exited-with-error\u001B[0m\n",
      "  \n",
      "  \u001B[31m×\u001B[0m \u001B[32mRunning setup.py install for cugraph\u001B[0m did not run successfully.\n",
      "  \u001B[31m│\u001B[0m exit code: \u001B[1;36m1\u001B[0m\n",
      "  \u001B[31m╰─>\u001B[0m See above for output.\n",
      "  \n",
      "  \u001B[1;35mnote\u001B[0m: This error originates from a subprocess, and is likely not a problem with pip.\n",
      "  Running setup.py install for cugraph ... \u001B[?25l\u001B[?25herror\n",
      "\u001B[1;31merror\u001B[0m: \u001B[1mlegacy-install-failure\u001B[0m\n",
      "\n",
      "\u001B[31m×\u001B[0m Encountered error while trying to install package.\n",
      "\u001B[31m╰─>\u001B[0m cugraph\n",
      "\n",
      "\u001B[1;35mnote\u001B[0m: This is an issue with the package mentioned above, not pip.\n",
      "\u001B[1;36mhint\u001B[0m: See above for output from the failure.\n"
     ]
    },
    {
     "output_type": "error",
     "ename": "ModuleNotFoundError",
     "evalue": "ignored",
     "traceback": [
      "\u001B[0;31m---------------------------------------------------------------------------\u001B[0m",
      "\u001B[0;31mModuleNotFoundError\u001B[0m                       Traceback (most recent call last)",
      "\u001B[0;32m<ipython-input-8-3e92a23e926c>\u001B[0m in \u001B[0;36m<module>\u001B[0;34m\u001B[0m\n\u001B[1;32m      1\u001B[0m \u001B[0mget_ipython\u001B[0m\u001B[0;34m(\u001B[0m\u001B[0;34m)\u001B[0m\u001B[0;34m.\u001B[0m\u001B[0msystem\u001B[0m\u001B[0;34m(\u001B[0m\u001B[0;34m'pip install --upgrade cugraph'\u001B[0m\u001B[0;34m)\u001B[0m\u001B[0;34m\u001B[0m\u001B[0;34m\u001B[0m\u001B[0m\n\u001B[0;32m----> 2\u001B[0;31m \u001B[0;32mimport\u001B[0m \u001B[0mcugraph\u001B[0m\u001B[0;34m\u001B[0m\u001B[0;34m\u001B[0m\u001B[0m\n\u001B[0m\u001B[1;32m      3\u001B[0m \u001B[0;32mimport\u001B[0m \u001B[0mnetworkx\u001B[0m \u001B[0;32mas\u001B[0m \u001B[0mnx\u001B[0m\u001B[0;34m\u001B[0m\u001B[0;34m\u001B[0m\u001B[0m\n\u001B[1;32m      4\u001B[0m \u001B[0;34m\u001B[0m\u001B[0m\n\u001B[1;32m      5\u001B[0m \u001B[0mnet\u001B[0m \u001B[0;34m=\u001B[0m \u001B[0mnx\u001B[0m\u001B[0;34m.\u001B[0m\u001B[0mfrom_pandas_edgelist\u001B[0m\u001B[0;34m(\u001B[0m\u001B[0mstream_df\u001B[0m\u001B[0;34m,\u001B[0m \u001B[0msource\u001B[0m\u001B[0;34m=\u001B[0m\u001B[0;34m\"Source\"\u001B[0m\u001B[0;34m,\u001B[0m \u001B[0mtarget\u001B[0m\u001B[0;34m=\u001B[0m\u001B[0;34m\"Target\"\u001B[0m\u001B[0;34m,\u001B[0m \u001B[0medge_attr\u001B[0m\u001B[0;34m=\u001B[0m\u001B[0;34m'Weight'\u001B[0m\u001B[0;34m,\u001B[0m \u001B[0mcreate_using\u001B[0m\u001B[0;34m=\u001B[0m\u001B[0mnx\u001B[0m\u001B[0;34m.\u001B[0m\u001B[0mDiGraph\u001B[0m\u001B[0;34m(\u001B[0m\u001B[0;34m)\u001B[0m\u001B[0;34m)\u001B[0m\u001B[0;34m\u001B[0m\u001B[0;34m\u001B[0m\u001B[0m\n",
      "\u001B[0;31mModuleNotFoundError\u001B[0m: No module named 'cugraph'",
      "",
      "\u001B[0;31m---------------------------------------------------------------------------\u001B[0;32m\nNOTE: If your import is failing due to a missing package, you can\nmanually install dependencies using either !pip or !apt.\n\nTo view examples of installing some common dependencies, click the\n\"Open Examples\" button below.\n\u001B[0;31m---------------------------------------------------------------------------\u001B[0m\n"
     ],
     "errorDetails": {
      "actions": [
       {
        "action": "open_url",
        "actionText": "Open Examples",
        "url": "/notebooks/snippets/importing_libraries.ipynb"
       }
      ]
     }
    }
   ]
  }
 ],
 "metadata": {
  "kernelspec": {
   "display_name": "Python 3.7.8 64-bit",
   "language": "python",
   "name": "python3"
  },
  "language_info": {
   "name": "python",
   "version": "3.7.8"
  },
  "orig_nbformat": 4,
  "vscode": {
   "interpreter": {
    "hash": "0c2c0728834e98fba8ef2763de91a8998e3b855325c3db51fe2a3f796681a481"
   }
  },
  "colab": {
   "provenance": []
  },
  "accelerator": "GPU"
 },
 "nbformat": 4,
 "nbformat_minor": 0
}
