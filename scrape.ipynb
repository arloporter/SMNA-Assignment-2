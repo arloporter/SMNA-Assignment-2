{
 "cells": [
  {
   "cell_type": "code",
   "source": [
    "!pip install --upgrade twarc\n",
    "!pip install twarc-csv --user\n",
    "from google.colab import drive\n",
    "drive.mount('/content/drive')"
   ],
   "metadata": {
    "colab": {
     "base_uri": "https://localhost:8080/"
    },
    "id": "MhhCyvRtZ4jO",
    "outputId": "dc99027e-ea09-4227-cd99-53be7d98a590",
    "pycharm": {
     "name": "#%%\n"
    }
   },
   "execution_count": 1,
   "outputs": [
    {
     "output_type": "stream",
     "name": "stdout",
     "text": [
      "Looking in indexes: https://pypi.org/simple, https://us-python.pkg.dev/colab-wheels/public/simple/\n",
      "Collecting twarc\n",
      "  Downloading twarc-2.11.3-py3-none-any.whl (60 kB)\n",
      "\u001B[K     |████████████████████████████████| 60 kB 5.0 MB/s \n",
      "\u001B[?25hRequirement already satisfied: python-dateutil>=2.8 in /usr/local/lib/python3.7/dist-packages (from twarc) (2.8.2)\n",
      "Requirement already satisfied: click<9,>=7 in /usr/local/lib/python3.7/dist-packages (from twarc) (7.1.2)\n",
      "Collecting click-config-file>=0.6\n",
      "  Downloading click_config_file-0.6.0-py2.py3-none-any.whl (6.0 kB)\n",
      "Collecting click-plugins>=1\n",
      "  Downloading click_plugins-1.1.1-py2.py3-none-any.whl (7.5 kB)\n",
      "Collecting humanize>=3.9\n",
      "  Downloading humanize-4.4.0-py3-none-any.whl (106 kB)\n",
      "\u001B[K     |████████████████████████████████| 106 kB 19.0 MB/s \n",
      "\u001B[?25hRequirement already satisfied: tqdm>=4.62 in /usr/local/lib/python3.7/dist-packages (from twarc) (4.64.1)\n",
      "Requirement already satisfied: requests-oauthlib>=1.3 in /usr/local/lib/python3.7/dist-packages (from twarc) (1.3.1)\n",
      "Collecting configobj>=5.0.6\n",
      "  Downloading configobj-5.0.6.tar.gz (33 kB)\n",
      "Requirement already satisfied: six in /usr/local/lib/python3.7/dist-packages (from configobj>=5.0.6->click-config-file>=0.6->twarc) (1.15.0)\n",
      "Requirement already satisfied: importlib-metadata in /usr/local/lib/python3.7/dist-packages (from humanize>=3.9->twarc) (4.12.0)\n",
      "Requirement already satisfied: requests>=2.0.0 in /usr/local/lib/python3.7/dist-packages (from requests-oauthlib>=1.3->twarc) (2.23.0)\n",
      "Requirement already satisfied: oauthlib>=3.0.0 in /usr/local/lib/python3.7/dist-packages (from requests-oauthlib>=1.3->twarc) (3.2.0)\n",
      "Requirement already satisfied: urllib3!=1.25.0,!=1.25.1,<1.26,>=1.21.1 in /usr/local/lib/python3.7/dist-packages (from requests>=2.0.0->requests-oauthlib>=1.3->twarc) (1.24.3)\n",
      "Requirement already satisfied: idna<3,>=2.5 in /usr/local/lib/python3.7/dist-packages (from requests>=2.0.0->requests-oauthlib>=1.3->twarc) (2.10)\n",
      "Requirement already satisfied: certifi>=2017.4.17 in /usr/local/lib/python3.7/dist-packages (from requests>=2.0.0->requests-oauthlib>=1.3->twarc) (2022.6.15)\n",
      "Requirement already satisfied: chardet<4,>=3.0.2 in /usr/local/lib/python3.7/dist-packages (from requests>=2.0.0->requests-oauthlib>=1.3->twarc) (3.0.4)\n",
      "Requirement already satisfied: typing-extensions>=3.6.4 in /usr/local/lib/python3.7/dist-packages (from importlib-metadata->humanize>=3.9->twarc) (4.1.1)\n",
      "Requirement already satisfied: zipp>=0.5 in /usr/local/lib/python3.7/dist-packages (from importlib-metadata->humanize>=3.9->twarc) (3.8.1)\n",
      "Building wheels for collected packages: configobj\n",
      "  Building wheel for configobj (setup.py) ... \u001B[?25l\u001B[?25hdone\n",
      "  Created wheel for configobj: filename=configobj-5.0.6-py3-none-any.whl size=34547 sha256=7f5feb9b1fb5bdd6f74c5dbb2a1f8e97001ce65f3c6de9667df6af54f1f67df8\n",
      "  Stored in directory: /root/.cache/pip/wheels/0d/c4/19/13d74440f2a571841db6b6e0a273694327498884dafb9cf978\n",
      "Successfully built configobj\n",
      "Installing collected packages: configobj, humanize, click-plugins, click-config-file, twarc\n",
      "  Attempting uninstall: humanize\n",
      "    Found existing installation: humanize 0.5.1\n",
      "    Uninstalling humanize-0.5.1:\n",
      "      Successfully uninstalled humanize-0.5.1\n",
      "Successfully installed click-config-file-0.6.0 click-plugins-1.1.1 configobj-5.0.6 humanize-4.4.0 twarc-2.11.3\n",
      "Looking in indexes: https://pypi.org/simple, https://us-python.pkg.dev/colab-wheels/public/simple/\n",
      "Collecting twarc-csv\n",
      "  Downloading twarc-csv-0.5.2.tar.gz (8.3 kB)\n",
      "Requirement already satisfied: twarc>=2.9.5 in /usr/local/lib/python3.7/dist-packages (from twarc-csv) (2.11.3)\n",
      "Requirement already satisfied: pandas>=1.2.5 in /usr/local/lib/python3.7/dist-packages (from twarc-csv) (1.3.5)\n",
      "Requirement already satisfied: more-itertools>=8.7.0 in /usr/local/lib/python3.7/dist-packages (from twarc-csv) (8.14.0)\n",
      "Requirement already satisfied: tqdm>=4.59.0 in /usr/local/lib/python3.7/dist-packages (from twarc-csv) (4.64.1)\n",
      "Requirement already satisfied: numpy>=1.17.3 in /usr/local/lib/python3.7/dist-packages (from pandas>=1.2.5->twarc-csv) (1.21.6)\n",
      "Requirement already satisfied: python-dateutil>=2.7.3 in /usr/local/lib/python3.7/dist-packages (from pandas>=1.2.5->twarc-csv) (2.8.2)\n",
      "Requirement already satisfied: pytz>=2017.3 in /usr/local/lib/python3.7/dist-packages (from pandas>=1.2.5->twarc-csv) (2022.2.1)\n",
      "Requirement already satisfied: six>=1.5 in /usr/local/lib/python3.7/dist-packages (from python-dateutil>=2.7.3->pandas>=1.2.5->twarc-csv) (1.15.0)\n",
      "Requirement already satisfied: click<9,>=7 in /usr/local/lib/python3.7/dist-packages (from twarc>=2.9.5->twarc-csv) (7.1.2)\n",
      "Requirement already satisfied: click-plugins>=1 in /usr/local/lib/python3.7/dist-packages (from twarc>=2.9.5->twarc-csv) (1.1.1)\n",
      "Requirement already satisfied: click-config-file>=0.6 in /usr/local/lib/python3.7/dist-packages (from twarc>=2.9.5->twarc-csv) (0.6.0)\n",
      "Requirement already satisfied: requests-oauthlib>=1.3 in /usr/local/lib/python3.7/dist-packages (from twarc>=2.9.5->twarc-csv) (1.3.1)\n",
      "Requirement already satisfied: humanize>=3.9 in /usr/local/lib/python3.7/dist-packages (from twarc>=2.9.5->twarc-csv) (4.4.0)\n",
      "Requirement already satisfied: configobj>=5.0.6 in /usr/local/lib/python3.7/dist-packages (from click-config-file>=0.6->twarc>=2.9.5->twarc-csv) (5.0.6)\n",
      "Requirement already satisfied: importlib-metadata in /usr/local/lib/python3.7/dist-packages (from humanize>=3.9->twarc>=2.9.5->twarc-csv) (4.12.0)\n",
      "Requirement already satisfied: requests>=2.0.0 in /usr/local/lib/python3.7/dist-packages (from requests-oauthlib>=1.3->twarc>=2.9.5->twarc-csv) (2.23.0)\n",
      "Requirement already satisfied: oauthlib>=3.0.0 in /usr/local/lib/python3.7/dist-packages (from requests-oauthlib>=1.3->twarc>=2.9.5->twarc-csv) (3.2.0)\n",
      "Requirement already satisfied: chardet<4,>=3.0.2 in /usr/local/lib/python3.7/dist-packages (from requests>=2.0.0->requests-oauthlib>=1.3->twarc>=2.9.5->twarc-csv) (3.0.4)\n",
      "Requirement already satisfied: certifi>=2017.4.17 in /usr/local/lib/python3.7/dist-packages (from requests>=2.0.0->requests-oauthlib>=1.3->twarc>=2.9.5->twarc-csv) (2022.6.15)\n",
      "Requirement already satisfied: idna<3,>=2.5 in /usr/local/lib/python3.7/dist-packages (from requests>=2.0.0->requests-oauthlib>=1.3->twarc>=2.9.5->twarc-csv) (2.10)\n",
      "Requirement already satisfied: urllib3!=1.25.0,!=1.25.1,<1.26,>=1.21.1 in /usr/local/lib/python3.7/dist-packages (from requests>=2.0.0->requests-oauthlib>=1.3->twarc>=2.9.5->twarc-csv) (1.24.3)\n",
      "Requirement already satisfied: typing-extensions>=3.6.4 in /usr/local/lib/python3.7/dist-packages (from importlib-metadata->humanize>=3.9->twarc>=2.9.5->twarc-csv) (4.1.1)\n",
      "Requirement already satisfied: zipp>=0.5 in /usr/local/lib/python3.7/dist-packages (from importlib-metadata->humanize>=3.9->twarc>=2.9.5->twarc-csv) (3.8.1)\n",
      "Building wheels for collected packages: twarc-csv\n",
      "  Building wheel for twarc-csv (setup.py) ... \u001B[?25l\u001B[?25hdone\n",
      "  Created wheel for twarc-csv: filename=twarc_csv-0.5.2-py3-none-any.whl size=9668 sha256=990db7c9e4a1f6b66127f026b19a4a04f2fcace55750c4aa2f074c39be409dc6\n",
      "  Stored in directory: /root/.cache/pip/wheels/8b/da/29/686e584f0162297399d799af5306e4f559960bafb385ba5755\n",
      "Successfully built twarc-csv\n",
      "Installing collected packages: twarc-csv\n",
      "Successfully installed twarc-csv-0.5.2\n"
     ]
    }
   ]
  },
  {
   "cell_type": "code",
   "execution_count": 2,
   "metadata": {
    "id": "W3_wXyzAALty",
    "colab": {
     "base_uri": "https://localhost:8080/"
    },
    "outputId": "7df7566c-0dbd-4381-ad4b-b9723d96e686",
    "pycharm": {
     "name": "#%%\n"
    }
   },
   "outputs": [
    {
     "output_type": "stream",
     "name": "stderr",
     "text": [
      "[nltk_data] Downloading package stopwords to /root/nltk_data...\n",
      "[nltk_data]   Unzipping corpora/stopwords.zip.\n"
     ]
    },
    {
     "output_type": "execute_result",
     "data": {
      "text/plain": [
       "True"
      ]
     },
     "metadata": {},
     "execution_count": 2
    }
   ],
   "source": [
    "import nltk, numpy, pandas, os, sys, random, time, twarc\n",
    "import matplotlib.pyplot as plt\n",
    "import pandas as pd\n",
    "nltk.download('stopwords')"
   ]
  },
  {
   "cell_type": "markdown",
   "source": [
    "BEARER: AAAAAAAAAAAAAAAAAAAAAFkmfgEAAAAADcgLX%2B3II8bI4oZ7dDWTGfqEsis%3DckGXQZEmb9y5fkhZR34eXvdatbiWSSg4vCxZla4pmfGXndZCD2   \n",
    "\n",
    "API KEY: hPOI2LgsaW5vylwt0AmCXLHXA   \n",
    "\n",
    "API SECRET: mcNe4tlYUKhmDOWmB4ixZN7qYSfTD71Z6KAU08rxtletApPxnr  \n",
    "\n",
    "ACCESS TOKEN: 1430421232239796227-BctF5asyBRXL3xoLioeq7Q0iWeiQV0  \n",
    "\n",
    "ACCESS SECRET: OK5KkazmfZSUWJoZ142trqFDac350T7H2bt7K1WxmTD8N\n",
    "\n",
    "\n"
   ],
   "metadata": {
    "id": "ZRiQIPjkb-WC",
    "pycharm": {
     "name": "#%% md\n"
    }
   }
  },
  {
   "cell_type": "code",
   "source": [
    "!twarc2 configure"
   ],
   "metadata": {
    "colab": {
     "base_uri": "https://localhost:8080/"
    },
    "id": "sB_SKMw_brYt",
    "outputId": "5b9f3214-be87-422d-ddb7-971ccfda19ff",
    "pycharm": {
     "name": "#%%\n"
    }
   },
   "execution_count": 3,
   "outputs": [
    {
     "output_type": "stream",
     "name": "stdout",
     "text": [
      "\n",
      "👋  Hi I don't see a configuration file yet, so let's make one.\n",
      "\n",
      "Please follow these steps:\n",
      "\n",
      "1. visit https://developer.twitter.com/en/portal/\n",
      "2. create a project and an app\n",
      "3. go to your Keys and Tokens and generate your keys\n",
      "\n",
      "Please enter your Bearer Token (leave blank to skip to API key configuration): AAAAAAAAAAAAAAAAAAAAAFkmfgEAAAAADcgLX%2B3II8bI4oZ7dDWTGfqEsis%3DckGXQZEmb9y5fkhZR34eXvdatbiWSSg4vCxZla4pmfGXndZCD2\n",
      "(Optional) Add API keys and secrets for user mode authentication [y or n]? y\n",
      "Please enter your API key: hPOI2LgsaW5vylwt0AmCXLHXA\n",
      "Please enter your API secret: mcNe4tlYUKhmDOWmB4ixZN7qYSfTD71Z6KAU08rxtletApPxnr\n",
      "\n",
      "How would you like twarc to obtain your user keys?\n",
      "\n",
      "1) generate access keys by visiting Twitter\n",
      "2) manually enter your access token and secret\n",
      "\n",
      "Please enter your choice [1 or 2] 2\n",
      "Enter your Access Token: 12Avzkh84Z7Ng3HbQGfo1iu2KHK4gShWH4LiaELbxhbppjDQ\n",
      "Enter your Access Token Secret: mcNe4tlYUKhmDOWmB4ixZN7qYSfTD71Z6KAU08rxtletApPxnr ACCESS TOKEN: 1430421232239796227-BctF5asyBRXL3xoLioeq7Q0iWeiQV0 ACCESS SECRET: OK5KkazmfZSUWJoZ142trqFDac350T7H2bt7K1WxmTD8N\n",
      "\u001B[32m\n",
      "Your keys have been written to /root/.config/twarc/config\u001B[0m\n",
      "\n",
      "\n",
      "✨ ✨ ✨  Happy twarcing! ✨ ✨ ✨\n",
      "\n"
     ]
    }
   ]
  },
  {
   "cell_type": "code",
   "source": [
    "!twarc2 search \"russia OR ukraine OR donbass OR luhansk OR crimea OR kherson OR kharkiv OR putin OR zelensky OR zaporizhzhia\" ./ukrain_REST.jsonl --start-time 2022-09-15 --end-time 2022-09-21 --limit 1000000\n",
    "!twarc2 stream-rules add \"donbass\"\n",
    "!twarc2 stream-rules add \"russia\"\n",
    "!twarc2 stream-rules add \"ukraine\"\n",
    "!twarc2 stream-rules add \"luhansk\"\n",
    "!twarc2 stream-rules add \"crimea\"\n",
    "!twarc2 stream-rules add \"kherson\"\n",
    "!twarc2 stream-rules add \"kharkiv\"\n",
    "!twarc2 stream-rules add \"putin\"\n",
    "!twarc2 stream-rules add \"zelensky\"\n",
    "!twarc2 stream-rules add \"zaporizhzhia\"\n",
    "!twarc2 stream > ukrain_STREAM.jsonl"
   ],
   "metadata": {
    "colab": {
     "base_uri": "https://localhost:8080/"
    },
    "id": "JjWx4IcUaVVV",
    "outputId": "6c5dc358-9bf0-43a6-9aec-2b91fbe1652e",
    "pycharm": {
     "name": "#%%\n"
    }
   },
   "execution_count": 8,
   "outputs": [
    {
     "output_type": "stream",
     "name": "stdout",
     "text": [
      "  1% 5242782/518400000 [13:47<22:30:05, 6334.85it/s]\n",
      "\u001B[33m⚡ \u001B[0m\u001B[31mInvalid 'start_time':'2022-09-15T00:00Z'. 'start_time' must be on or after 2022-09-15T00:03Z\u001B[0m\n"
     ]
    }
   ]
  },
  {
   "cell_type": "code",
   "source": [
    "#!twarc2 flatten /content/drive/MyDrive/ukraine_REST.jsonl /content/drive/MyDrive/ukraine_REST_flat.jsonl\n",
    "#!twarc2 flatten /content/drive/MyDrive/ukraine_STREAM.jsonl /content/drive/MyDrive/ukraine_STREAM_flat.jsonl"
   ],
   "metadata": {
    "colab": {
     "base_uri": "https://localhost:8080/"
    },
    "id": "4eFrSqozn6xz",
    "outputId": "84094838-6b88-4450-f998-6c63ef4631b6",
    "pycharm": {
     "name": "#%%\n"
    }
   },
   "execution_count": 16,
   "outputs": [
    {
     "output_type": "stream",
     "name": "stdout",
     "text": [
      "100% 633M/633M [01:19<00:00, 8.34MB/s]\n",
      "\u001B[33m⚡ \u001B[0m\u001B[31mUnterminated string starting at: line 1 column 3807 (char 3806)\u001B[0m\n"
     ]
    }
   ]
  },
  {
   "cell_type": "code",
   "source": [
    "!pip3 install twarc-network\n",
    "!twarc2 network /content/drive/MyDrive/ukraine_STREAM_flat.jsonl --format csv network.csv --min-component-size 30"
   ],
   "metadata": {
    "colab": {
     "base_uri": "https://localhost:8080/"
    },
    "id": "wf-D_FgHwHoe",
    "outputId": "ef2e5aa2-2c11-4533-d8e9-975ccde11d71",
    "pycharm": {
     "name": "#%%\n"
    }
   },
   "execution_count": 36,
   "outputs": [
    {
     "output_type": "stream",
     "name": "stdout",
     "text": [
      "\n",
      "Aborted!\n"
     ]
    }
   ]
  },
  {
   "cell_type": "code",
   "source": [
    "stream_df = pd.read_csv('/content/drive/MyDrive/network_stream.csv', names=['Source', 'Target', 'Weight', 'Retweet', 'Reply', 'Quote', 'Mention'])\n",
    "stream_df = stream_df.drop(['Mention'], axis=1)\n",
    "stream_df['Weight'] = stream_df['Weight'].map(lambda y: [int(x) for x in y.split() if x.isdigit()][0])\n",
    "stream_df['Retweet'] = stream_df['Retweet'].map(lambda y: [int(x) for x in y.split() if x.isdigit()][0])\n",
    "stream_df['Reply'] = stream_df['Reply'].map(lambda y: [int(x) for x in y.split() if x.isdigit()][0])\n",
    "stream_df['Quote'] = stream_df['Quote'].map(lambda y: [int(x) for x in y.split() if x.isdigit()][0])"
   ],
   "metadata": {
    "colab": {
     "base_uri": "https://localhost:8080/"
    },
    "id": "26zUSvko-_Kh",
    "outputId": "e69fa038-5f32-4953-9857-c842ca3b5c2f",
    "pycharm": {
     "name": "#%%\n"
    }
   },
   "execution_count": 4,
   "outputs": [
    {
     "output_type": "stream",
     "name": "stdout",
     "text": [
      "Mounted at /content/drive\n"
     ]
    }
   ]
  },
  {
   "cell_type": "code",
   "source": [
    "net = nx.from_pandas_edgelist(stream_df, source=\"Source\", target=\"Target\", edge_attr='Weight', create_using=nx.DiGraph())\n",
    "cugraph.draw(net, with_labels=True, node_size=60,font_size=8)\n",
    "plt.figure(figsize=(200,200)) \n",
    "plt.show()"
   ],
   "metadata": {
    "colab": {
     "base_uri": "https://localhost:8080/",
     "height": 968
    },
    "id": "VY30muvU_b5N",
    "outputId": "ddf64eb9-2293-4e38-de63-98d1216ccad1",
    "pycharm": {
     "name": "#%%\n"
    }
   },
   "execution_count": 8,
   "outputs": [
    {
     "output_type": "stream",
     "name": "stdout",
     "text": [
      "Looking in indexes: https://pypi.org/simple, https://us-python.pkg.dev/colab-wheels/public/simple/\n",
      "Collecting cugraph\n",
      "  Using cached cugraph-0.6.1.post1.tar.gz (1.1 kB)\n",
      "  Preparing metadata (setup.py) ... \u001B[?25l\u001B[?25hdone\n",
      "Building wheels for collected packages: cugraph\n",
      "  \u001B[1;31merror\u001B[0m: \u001B[1msubprocess-exited-with-error\u001B[0m\n",
      "  \n",
      "  \u001B[31m×\u001B[0m \u001B[32mpython setup.py bdist_wheel\u001B[0m did not run successfully.\n",
      "  \u001B[31m│\u001B[0m exit code: \u001B[1;36m1\u001B[0m\n",
      "  \u001B[31m╰─>\u001B[0m See above for output.\n",
      "  \n",
      "  \u001B[1;35mnote\u001B[0m: This error originates from a subprocess, and is likely not a problem with pip.\n",
      "  Building wheel for cugraph (setup.py) ... \u001B[?25lerror\n",
      "\u001B[31m  ERROR: Failed building wheel for cugraph\u001B[0m\u001B[31m\n",
      "\u001B[0m\u001B[?25h  Running setup.py clean for cugraph\n",
      "Failed to build cugraph\n",
      "Installing collected packages: cugraph\n",
      "  \u001B[1;31merror\u001B[0m: \u001B[1msubprocess-exited-with-error\u001B[0m\n",
      "  \n",
      "  \u001B[31m×\u001B[0m \u001B[32mRunning setup.py install for cugraph\u001B[0m did not run successfully.\n",
      "  \u001B[31m│\u001B[0m exit code: \u001B[1;36m1\u001B[0m\n",
      "  \u001B[31m╰─>\u001B[0m See above for output.\n",
      "  \n",
      "  \u001B[1;35mnote\u001B[0m: This error originates from a subprocess, and is likely not a problem with pip.\n",
      "  Running setup.py install for cugraph ... \u001B[?25l\u001B[?25herror\n",
      "\u001B[1;31merror\u001B[0m: \u001B[1mlegacy-install-failure\u001B[0m\n",
      "\n",
      "\u001B[31m×\u001B[0m Encountered error while trying to install package.\n",
      "\u001B[31m╰─>\u001B[0m cugraph\n",
      "\n",
      "\u001B[1;35mnote\u001B[0m: This is an issue with the package mentioned above, not pip.\n",
      "\u001B[1;36mhint\u001B[0m: See above for output from the failure.\n"
     ]
    },
    {
     "output_type": "error",
     "ename": "ModuleNotFoundError",
     "evalue": "ignored",
     "traceback": [
      "\u001B[0;31m---------------------------------------------------------------------------\u001B[0m",
      "\u001B[0;31mModuleNotFoundError\u001B[0m                       Traceback (most recent call last)",
      "\u001B[0;32m<ipython-input-8-3e92a23e926c>\u001B[0m in \u001B[0;36m<module>\u001B[0;34m\u001B[0m\n\u001B[1;32m      1\u001B[0m \u001B[0mget_ipython\u001B[0m\u001B[0;34m(\u001B[0m\u001B[0;34m)\u001B[0m\u001B[0;34m.\u001B[0m\u001B[0msystem\u001B[0m\u001B[0;34m(\u001B[0m\u001B[0;34m'pip install --upgrade cugraph'\u001B[0m\u001B[0;34m)\u001B[0m\u001B[0;34m\u001B[0m\u001B[0;34m\u001B[0m\u001B[0m\n\u001B[0;32m----> 2\u001B[0;31m \u001B[0;32mimport\u001B[0m \u001B[0mcugraph\u001B[0m\u001B[0;34m\u001B[0m\u001B[0;34m\u001B[0m\u001B[0m\n\u001B[0m\u001B[1;32m      3\u001B[0m \u001B[0;32mimport\u001B[0m \u001B[0mnetworkx\u001B[0m \u001B[0;32mas\u001B[0m \u001B[0mnx\u001B[0m\u001B[0;34m\u001B[0m\u001B[0;34m\u001B[0m\u001B[0m\n\u001B[1;32m      4\u001B[0m \u001B[0;34m\u001B[0m\u001B[0m\n\u001B[1;32m      5\u001B[0m \u001B[0mnet\u001B[0m \u001B[0;34m=\u001B[0m \u001B[0mnx\u001B[0m\u001B[0;34m.\u001B[0m\u001B[0mfrom_pandas_edgelist\u001B[0m\u001B[0;34m(\u001B[0m\u001B[0mstream_df\u001B[0m\u001B[0;34m,\u001B[0m \u001B[0msource\u001B[0m\u001B[0;34m=\u001B[0m\u001B[0;34m\"Source\"\u001B[0m\u001B[0;34m,\u001B[0m \u001B[0mtarget\u001B[0m\u001B[0;34m=\u001B[0m\u001B[0;34m\"Target\"\u001B[0m\u001B[0;34m,\u001B[0m \u001B[0medge_attr\u001B[0m\u001B[0;34m=\u001B[0m\u001B[0;34m'Weight'\u001B[0m\u001B[0;34m,\u001B[0m \u001B[0mcreate_using\u001B[0m\u001B[0;34m=\u001B[0m\u001B[0mnx\u001B[0m\u001B[0;34m.\u001B[0m\u001B[0mDiGraph\u001B[0m\u001B[0;34m(\u001B[0m\u001B[0;34m)\u001B[0m\u001B[0;34m)\u001B[0m\u001B[0;34m\u001B[0m\u001B[0;34m\u001B[0m\u001B[0m\n",
      "\u001B[0;31mModuleNotFoundError\u001B[0m: No module named 'cugraph'",
      "",
      "\u001B[0;31m---------------------------------------------------------------------------\u001B[0;32m\nNOTE: If your import is failing due to a missing package, you can\nmanually install dependencies using either !pip or !apt.\n\nTo view examples of installing some common dependencies, click the\n\"Open Examples\" button below.\n\u001B[0;31m---------------------------------------------------------------------------\u001B[0m\n"
     ],
     "errorDetails": {
      "actions": [
       {
        "action": "open_url",
        "actionText": "Open Examples",
        "url": "/notebooks/snippets/importing_libraries.ipynb"
       }
      ]
     }
    }
   ]
  }
 ],
 "metadata": {
  "kernelspec": {
   "display_name": "Python 3.7.8 64-bit",
   "language": "python",
   "name": "python3"
  },
  "language_info": {
   "name": "python",
   "version": "3.7.8"
  },
  "orig_nbformat": 4,
  "vscode": {
   "interpreter": {
    "hash": "0c2c0728834e98fba8ef2763de91a8998e3b855325c3db51fe2a3f796681a481"
   }
  },
  "colab": {
   "provenance": []
  },
  "accelerator": "GPU"
 },
 "nbformat": 4,
 "nbformat_minor": 0
}