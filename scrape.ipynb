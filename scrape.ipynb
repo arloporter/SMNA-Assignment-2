{
 "cells": [
  {
   "cell_type": "code",
   "execution_count": 2,
   "metadata": {
    "colab": {
     "base_uri": "https://localhost:8080/"
    },
    "id": "MhhCyvRtZ4jO",
    "outputId": "dc99027e-ea09-4227-cd99-53be7d98a590"
   },
   "outputs": [
    {
     "name": "stdout",
     "output_type": "stream",
     "text": [
      "Requirement already satisfied: twarc in /home/soldier/anaconda3/lib/python3.8/site-packages (2.12.0)\n",
      "Requirement already satisfied: tqdm>=4.62 in /home/soldier/anaconda3/lib/python3.8/site-packages (from twarc) (4.64.1)\n",
      "Requirement already satisfied: requests-oauthlib>=1.3 in /home/soldier/anaconda3/lib/python3.8/site-packages (from twarc) (1.3.1)\n",
      "Requirement already satisfied: click-plugins>=1 in /home/soldier/anaconda3/lib/python3.8/site-packages (from twarc) (1.1.1)\n",
      "Requirement already satisfied: python-dateutil>=2.8 in /home/soldier/.local/lib/python3.8/site-packages (from twarc) (2.8.2)\n",
      "Requirement already satisfied: humanize>=3.9 in /home/soldier/anaconda3/lib/python3.8/site-packages (from twarc) (4.3.0)\n",
      "Requirement already satisfied: click-config-file>=0.6 in /home/soldier/anaconda3/lib/python3.8/site-packages (from twarc) (0.6.0)\n",
      "Requirement already satisfied: click<9,>=7 in /home/soldier/anaconda3/lib/python3.8/site-packages (from twarc) (8.0.3)\n",
      "Requirement already satisfied: configobj>=5.0.6 in /home/soldier/anaconda3/lib/python3.8/site-packages (from click-config-file>=0.6->twarc) (5.0.6)\n",
      "Requirement already satisfied: six in /home/soldier/anaconda3/lib/python3.8/site-packages (from configobj>=5.0.6->click-config-file>=0.6->twarc) (1.15.0)\n",
      "Requirement already satisfied: oauthlib>=3.0.0 in /home/soldier/anaconda3/lib/python3.8/site-packages (from requests-oauthlib>=1.3->twarc) (3.2.0)\n",
      "Requirement already satisfied: requests>=2.0.0 in /home/soldier/anaconda3/lib/python3.8/site-packages (from requests-oauthlib>=1.3->twarc) (2.25.1)\n",
      "Requirement already satisfied: chardet<5,>=3.0.2 in /home/soldier/anaconda3/lib/python3.8/site-packages (from requests>=2.0.0->requests-oauthlib>=1.3->twarc) (4.0.0)\n",
      "Requirement already satisfied: certifi>=2017.4.17 in /home/soldier/anaconda3/lib/python3.8/site-packages (from requests>=2.0.0->requests-oauthlib>=1.3->twarc) (2020.12.5)\n",
      "Requirement already satisfied: idna<3,>=2.5 in /home/soldier/anaconda3/lib/python3.8/site-packages (from requests>=2.0.0->requests-oauthlib>=1.3->twarc) (2.10)\n",
      "Requirement already satisfied: urllib3<1.27,>=1.21.1 in /home/soldier/anaconda3/lib/python3.8/site-packages (from requests>=2.0.0->requests-oauthlib>=1.3->twarc) (1.26.4)\n",
      "Requirement already satisfied: twarc-csv in /home/soldier/.local/lib/python3.8/site-packages (0.5.2)\n",
      "Requirement already satisfied: tqdm>=4.59.0 in /home/soldier/anaconda3/lib/python3.8/site-packages (from twarc-csv) (4.64.1)\n",
      "Requirement already satisfied: more-itertools>=8.7.0 in /home/soldier/anaconda3/lib/python3.8/site-packages (from twarc-csv) (8.7.0)\n",
      "Requirement already satisfied: pandas>=1.2.5 in /home/soldier/anaconda3/lib/python3.8/site-packages (from twarc-csv) (1.3.5)\n",
      "Requirement already satisfied: twarc>=2.9.5 in /home/soldier/anaconda3/lib/python3.8/site-packages (from twarc-csv) (2.12.0)\n",
      "Requirement already satisfied: numpy>=1.17.3 in /home/soldier/.local/lib/python3.8/site-packages (from pandas>=1.2.5->twarc-csv) (1.21.4)\n",
      "Requirement already satisfied: python-dateutil>=2.7.3 in /home/soldier/.local/lib/python3.8/site-packages (from pandas>=1.2.5->twarc-csv) (2.8.2)\n",
      "Requirement already satisfied: pytz>=2017.3 in /home/soldier/.local/lib/python3.8/site-packages (from pandas>=1.2.5->twarc-csv) (2022.1)\n",
      "Requirement already satisfied: six>=1.5 in /home/soldier/anaconda3/lib/python3.8/site-packages (from python-dateutil>=2.7.3->pandas>=1.2.5->twarc-csv) (1.15.0)\n",
      "Requirement already satisfied: click-plugins>=1 in /home/soldier/anaconda3/lib/python3.8/site-packages (from twarc>=2.9.5->twarc-csv) (1.1.1)\n",
      "Requirement already satisfied: humanize>=3.9 in /home/soldier/anaconda3/lib/python3.8/site-packages (from twarc>=2.9.5->twarc-csv) (4.3.0)\n",
      "Requirement already satisfied: click-config-file>=0.6 in /home/soldier/anaconda3/lib/python3.8/site-packages (from twarc>=2.9.5->twarc-csv) (0.6.0)\n",
      "Requirement already satisfied: click<9,>=7 in /home/soldier/anaconda3/lib/python3.8/site-packages (from twarc>=2.9.5->twarc-csv) (8.0.3)\n",
      "Requirement already satisfied: requests-oauthlib>=1.3 in /home/soldier/anaconda3/lib/python3.8/site-packages (from twarc>=2.9.5->twarc-csv) (1.3.1)\n",
      "Requirement already satisfied: configobj>=5.0.6 in /home/soldier/anaconda3/lib/python3.8/site-packages (from click-config-file>=0.6->twarc>=2.9.5->twarc-csv) (5.0.6)\n",
      "Requirement already satisfied: oauthlib>=3.0.0 in /home/soldier/anaconda3/lib/python3.8/site-packages (from requests-oauthlib>=1.3->twarc>=2.9.5->twarc-csv) (3.2.0)\n",
      "Requirement already satisfied: requests>=2.0.0 in /home/soldier/anaconda3/lib/python3.8/site-packages (from requests-oauthlib>=1.3->twarc>=2.9.5->twarc-csv) (2.25.1)\n",
      "Requirement already satisfied: idna<3,>=2.5 in /home/soldier/anaconda3/lib/python3.8/site-packages (from requests>=2.0.0->requests-oauthlib>=1.3->twarc>=2.9.5->twarc-csv) (2.10)\n",
      "Requirement already satisfied: certifi>=2017.4.17 in /home/soldier/anaconda3/lib/python3.8/site-packages (from requests>=2.0.0->requests-oauthlib>=1.3->twarc>=2.9.5->twarc-csv) (2020.12.5)\n",
      "Requirement already satisfied: chardet<5,>=3.0.2 in /home/soldier/anaconda3/lib/python3.8/site-packages (from requests>=2.0.0->requests-oauthlib>=1.3->twarc>=2.9.5->twarc-csv) (4.0.0)\n",
      "Requirement already satisfied: urllib3<1.27,>=1.21.1 in /home/soldier/anaconda3/lib/python3.8/site-packages (from requests>=2.0.0->requests-oauthlib>=1.3->twarc>=2.9.5->twarc-csv) (1.26.4)\n"
     ]
    }
   ],
   "source": [
    "!pip install --upgrade twarc\n",
    "!pip install twarc-csv --user\n",
    "# from google.colab import drive\n",
    "# drive.mount('/content/drive')"
   ]
  },
  {
   "cell_type": "code",
   "execution_count": 1,
   "metadata": {
    "colab": {
     "base_uri": "https://localhost:8080/"
    },
    "id": "W3_wXyzAALty",
    "outputId": "7df7566c-0dbd-4381-ad4b-b9723d96e686"
   },
   "outputs": [
    {
     "name": "stderr",
     "output_type": "stream",
     "text": [
      "[nltk_data] Downloading package stopwords to\n",
      "[nltk_data]     /home/soldier/nltk_data...\n",
      "[nltk_data]   Package stopwords is already up-to-date!\n"
     ]
    },
    {
     "data": {
      "text/plain": [
       "True"
      ]
     },
     "execution_count": 1,
     "metadata": {},
     "output_type": "execute_result"
    }
   ],
   "source": [
    "import nltk, numpy, pandas, os, sys, random, time, twarc\n",
    "import matplotlib.pyplot as plt\n",
    "import pandas as pd\n",
    "nltk.download('stopwords')"
   ]
  },
  {
   "cell_type": "markdown",
   "metadata": {
    "id": "ZRiQIPjkb-WC"
   },
   "source": [
    "BEARER: AAAAAAAAAAAAAAAAAAAAAFkmfgEAAAAADcgLX%2B3II8bI4oZ7dDWTGfqEsis%3DckGXQZEmb9y5fkhZR34eXvdatbiWSSg4vCxZla4pmfGXndZCD2   \n",
    "\n",
    "API KEY: hPOI2LgsaW5vylwt0AmCXLHXA   \n",
    "\n",
    "API SECRET: mcNe4tlYUKhmDOWmB4ixZN7qYSfTD71Z6KAU08rxtletApPxnr  \n",
    "\n",
    "ACCESS TOKEN: 1430421232239796227-BctF5asyBRXL3xoLioeq7Q0iWeiQV0  \n",
    "\n",
    "ACCESS SECRET: OK5KkazmfZSUWJoZ142trqFDac350T7H2bt7K1WxmTD8N\n"
   ]
  },
  {
   "cell_type": "code",
   "execution_count": 2,
   "metadata": {
    "colab": {
     "base_uri": "https://localhost:8080/"
    },
    "id": "sB_SKMw_brYt",
    "outputId": "5b9f3214-be87-422d-ddb7-971ccfda19ff",
    "scrolled": true
   },
   "outputs": [
    {
     "name": "stdout",
     "output_type": "stream",
     "text": [
      "Please enter your Bearer Token (leave blank to skip to API key configuration): ^C\r\n",
      "\r\n",
      "Aborted!\r\n"
     ]
    }
   ],
   "source": [
    "!twarc2 configure"
   ]
  },
  {
   "cell_type": "code",
   "execution_count": 1,
   "metadata": {
    "colab": {
     "base_uri": "https://localhost:8080/"
    },
    "id": "JjWx4IcUaVVV",
    "outputId": "6c5dc358-9bf0-43a6-9aec-2b91fbe1652e"
   },
   "outputs": [
    {
     "name": "stdout",
     "output_type": "stream",
     "text": [
      "Usage: twarc2 configure [OPTIONS]\r\n",
      "Try 'twarc2 configure --help' for help.\r\n",
      "\r\n",
      "Error: No such option: --start-time\r\n"
     ]
    }
   ],
   "source": [
    "# !twarc2 search \"russia AND putin AND annex OR annexation OR annexes OR annexed AND ukraine OR eastern\" ./ukrain_REST.jsonl --start-time 2022-09-30 --end-time 2022-10-2 --limit 1000000\n",
    "!twarc2 search \"(putin annex ukraine) OR (putin annex Kherson) OR (putin annex Luhansk) OR (putin annex Donetsk) OR (putin annex Zaporizhzhia)\" ./ukrain_REST.jsonl --start-time 2022-09-30 --end-time 2022-10-3 --limit 1000000"
   ]
  },
  {
   "cell_type": "code",
   "execution_count": 16,
   "metadata": {
    "colab": {
     "base_uri": "https://localhost:8080/"
    },
    "id": "4eFrSqozn6xz",
    "outputId": "84094838-6b88-4450-f998-6c63ef4631b6"
   },
   "outputs": [
    {
     "name": "stdout",
     "output_type": "stream",
     "text": [
      "100% 633M/633M [01:19<00:00, 8.34MB/s]\n",
      "\u001B[33m⚡ \u001B[0m\u001B[31mUnterminated string starting at: line 1 column 3807 (char 3806)\u001B[0m\n"
     ]
    }
   ],
   "source": [
    "#!twarc2 flatten /content/drive/MyDrive/ukraine_REST.jsonl /content/drive/MyDrive/ukraine_REST_flat.jsonl\n",
    "#!twarc2 flatten /content/drive/MyDrive/ukraine_STREAM.jsonl /content/drive/MyDrive/ukraine_STREAM_flat.jsonl"
   ]
  },
  {
   "cell_type": "code",
   "execution_count": 36,
   "metadata": {
    "colab": {
     "base_uri": "https://localhost:8080/"
    },
    "id": "wf-D_FgHwHoe",
    "outputId": "ef2e5aa2-2c11-4533-d8e9-975ccde11d71"
   },
   "outputs": [
    {
     "name": "stdout",
     "output_type": "stream",
     "text": [
      "\n",
      "Aborted!\n"
     ]
    }
   ],
   "source": [
    "!pip3 install twarc-network\n",
    "!twarc2 network /content/drive/MyDrive/ukraine_STREAM_flat.jsonl --format csv network.csv --min-component-size 30"
   ]
  },
  {
   "cell_type": "code",
   "execution_count": 4,
   "metadata": {
    "colab": {
     "base_uri": "https://localhost:8080/"
    },
    "id": "26zUSvko-_Kh",
    "outputId": "e69fa038-5f32-4953-9857-c842ca3b5c2f"
   },
   "outputs": [
    {
     "name": "stdout",
     "output_type": "stream",
     "text": [
      "Mounted at /content/drive\n"
     ]
    }
   ],
   "source": [
    "stream_df = pd.read_csv('/content/drive/MyDrive/network_stream.csv', names=['Source', 'Target', 'Weight', 'Retweet', 'Reply', 'Quote', 'Mention'])\n",
    "stream_df = stream_df.drop(['Mention'], axis=1)\n",
    "stream_df['Weight'] = stream_df['Weight'].map(lambda y: [int(x) for x in y.split() if x.isdigit()][0])\n",
    "stream_df['Retweet'] = stream_df['Retweet'].map(lambda y: [int(x) for x in y.split() if x.isdigit()][0])\n",
    "stream_df['Reply'] = stream_df['Reply'].map(lambda y: [int(x) for x in y.split() if x.isdigit()][0])\n",
    "stream_df['Quote'] = stream_df['Quote'].map(lambda y: [int(x) for x in y.split() if x.isdigit()][0])"
   ]
  },
  {
   "cell_type": "code",
   "execution_count": 8,
   "metadata": {
    "colab": {
     "base_uri": "https://localhost:8080/",
     "height": 968
    },
    "id": "VY30muvU_b5N",
    "outputId": "ddf64eb9-2293-4e38-de63-98d1216ccad1"
   },
   "outputs": [
    {
     "name": "stdout",
     "output_type": "stream",
     "text": [
      "Looking in indexes: https://pypi.org/simple, https://us-python.pkg.dev/colab-wheels/public/simple/\n",
      "Collecting cugraph\n",
      "  Using cached cugraph-0.6.1.post1.tar.gz (1.1 kB)\n",
      "  Preparing metadata (setup.py) ... \u001B[?25l\u001B[?25hdone\n",
      "Building wheels for collected packages: cugraph\n",
      "  \u001B[1;31merror\u001B[0m: \u001B[1msubprocess-exited-with-error\u001B[0m\n",
      "  \n",
      "  \u001B[31m×\u001B[0m \u001B[32mpython setup.py bdist_wheel\u001B[0m did not run successfully.\n",
      "  \u001B[31m│\u001B[0m exit code: \u001B[1;36m1\u001B[0m\n",
      "  \u001B[31m╰─>\u001B[0m See above for output.\n",
      "  \n",
      "  \u001B[1;35mnote\u001B[0m: This error originates from a subprocess, and is likely not a problem with pip.\n",
      "  Building wheel for cugraph (setup.py) ... \u001B[?25lerror\n",
      "\u001B[31m  ERROR: Failed building wheel for cugraph\u001B[0m\u001B[31m\n",
      "\u001B[0m\u001B[?25h  Running setup.py clean for cugraph\n",
      "Failed to build cugraph\n",
      "Installing collected packages: cugraph\n",
      "  \u001B[1;31merror\u001B[0m: \u001B[1msubprocess-exited-with-error\u001B[0m\n",
      "  \n",
      "  \u001B[31m×\u001B[0m \u001B[32mRunning setup.py install for cugraph\u001B[0m did not run successfully.\n",
      "  \u001B[31m│\u001B[0m exit code: \u001B[1;36m1\u001B[0m\n",
      "  \u001B[31m╰─>\u001B[0m See above for output.\n",
      "  \n",
      "  \u001B[1;35mnote\u001B[0m: This error originates from a subprocess, and is likely not a problem with pip.\n",
      "  Running setup.py install for cugraph ... \u001B[?25l\u001B[?25herror\n",
      "\u001B[1;31merror\u001B[0m: \u001B[1mlegacy-install-failure\u001B[0m\n",
      "\n",
      "\u001B[31m×\u001B[0m Encountered error while trying to install package.\n",
      "\u001B[31m╰─>\u001B[0m cugraph\n",
      "\n",
      "\u001B[1;35mnote\u001B[0m: This is an issue with the package mentioned above, not pip.\n",
      "\u001B[1;36mhint\u001B[0m: See above for output from the failure.\n"
     ]
    },
    {
     "ename": "ModuleNotFoundError",
     "errorDetails": {
      "actions": [
       {
        "action": "open_url",
        "actionText": "Open Examples",
        "url": "/notebooks/snippets/importing_libraries.ipynb"
       }
      ]
     },
     "evalue": "ignored",
     "output_type": "error",
     "traceback": [
      "\u001B[0;31m---------------------------------------------------------------------------\u001B[0m",
      "\u001B[0;31mModuleNotFoundError\u001B[0m                       Traceback (most recent call last)",
      "\u001B[0;32m<ipython-input-8-3e92a23e926c>\u001B[0m in \u001B[0;36m<module>\u001B[0;34m\u001B[0m\n\u001B[1;32m      1\u001B[0m \u001B[0mget_ipython\u001B[0m\u001B[0;34m(\u001B[0m\u001B[0;34m)\u001B[0m\u001B[0;34m.\u001B[0m\u001B[0msystem\u001B[0m\u001B[0;34m(\u001B[0m\u001B[0;34m'pip install --upgrade cugraph'\u001B[0m\u001B[0;34m)\u001B[0m\u001B[0;34m\u001B[0m\u001B[0;34m\u001B[0m\u001B[0m\n\u001B[0;32m----> 2\u001B[0;31m \u001B[0;32mimport\u001B[0m \u001B[0mcugraph\u001B[0m\u001B[0;34m\u001B[0m\u001B[0;34m\u001B[0m\u001B[0m\n\u001B[0m\u001B[1;32m      3\u001B[0m \u001B[0;32mimport\u001B[0m \u001B[0mnetworkx\u001B[0m \u001B[0;32mas\u001B[0m \u001B[0mnx\u001B[0m\u001B[0;34m\u001B[0m\u001B[0;34m\u001B[0m\u001B[0m\n\u001B[1;32m      4\u001B[0m \u001B[0;34m\u001B[0m\u001B[0m\n\u001B[1;32m      5\u001B[0m \u001B[0mnet\u001B[0m \u001B[0;34m=\u001B[0m \u001B[0mnx\u001B[0m\u001B[0;34m.\u001B[0m\u001B[0mfrom_pandas_edgelist\u001B[0m\u001B[0;34m(\u001B[0m\u001B[0mstream_df\u001B[0m\u001B[0;34m,\u001B[0m \u001B[0msource\u001B[0m\u001B[0;34m=\u001B[0m\u001B[0;34m\"Source\"\u001B[0m\u001B[0;34m,\u001B[0m \u001B[0mtarget\u001B[0m\u001B[0;34m=\u001B[0m\u001B[0;34m\"Target\"\u001B[0m\u001B[0;34m,\u001B[0m \u001B[0medge_attr\u001B[0m\u001B[0;34m=\u001B[0m\u001B[0;34m'Weight'\u001B[0m\u001B[0;34m,\u001B[0m \u001B[0mcreate_using\u001B[0m\u001B[0;34m=\u001B[0m\u001B[0mnx\u001B[0m\u001B[0;34m.\u001B[0m\u001B[0mDiGraph\u001B[0m\u001B[0;34m(\u001B[0m\u001B[0;34m)\u001B[0m\u001B[0;34m)\u001B[0m\u001B[0;34m\u001B[0m\u001B[0;34m\u001B[0m\u001B[0m\n",
      "\u001B[0;31mModuleNotFoundError\u001B[0m: No module named 'cugraph'",
      "",
      "\u001B[0;31m---------------------------------------------------------------------------\u001B[0;32m\nNOTE: If your import is failing due to a missing package, you can\nmanually install dependencies using either !pip or !apt.\n\nTo view examples of installing some common dependencies, click the\n\"Open Examples\" button below.\n\u001B[0;31m---------------------------------------------------------------------------\u001B[0m\n"
     ]
    }
   ],
   "source": [
    "net = nx.from_pandas_edgelist(stream_df, source=\"Source\", target=\"Target\", edge_attr='Weight', create_using=nx.DiGraph())\n",
    "cugraph.draw(net, with_labels=True, node_size=60,font_size=8)\n",
    "plt.figure(figsize=(200,200)) \n",
    "plt.show()"
   ]
  }
 ],
 "metadata": {
  "accelerator": "GPU",
  "colab": {
   "provenance": []
  },
  "kernelspec": {
   "display_name": "Python 3",
   "language": "python",
   "name": "python3"
  },
  "language_info": {
   "codemirror_mode": {
    "name": "ipython",
    "version": 3
   },
   "file_extension": ".py",
   "mimetype": "text/x-python",
   "name": "python",
   "nbconvert_exporter": "python",
   "pygments_lexer": "ipython3",
   "version": "3.8.8"
  },
  "vscode": {
   "interpreter": {
    "hash": "0c2c0728834e98fba8ef2763de91a8998e3b855325c3db51fe2a3f796681a481"
   }
  }
 },
 "nbformat": 4,
 "nbformat_minor": 1
}
