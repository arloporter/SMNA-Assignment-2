{
  "nbformat": 4,
  "nbformat_minor": 0,
  "metadata": {
    "colab": {
      "provenance": [],
      "machine_shape": "hm",
      "authorship_tag": "ABX9TyO2OgHp3kR6it5SNzRMiqnr",
      "include_colab_link": true
    },
    "kernelspec": {
      "name": "python3",
      "display_name": "Python 3"
    },
    "language_info": {
      "name": "python"
    },
    "accelerator": "GPU",
    "gpuClass": "premium"
  },
  "cells": [
    {
      "cell_type": "markdown",
      "metadata": {
        "id": "view-in-github",
        "colab_type": "text"
      },
      "source": [
        "<a href=\"https://colab.research.google.com/github/arloporter/SMNA-Assignment-2/blob/main/graph_analysis.ipynb\" target=\"_parent\"><img src=\"https://colab.research.google.com/assets/colab-badge.svg\" alt=\"Open In Colab\"/></a>"
      ]
    },
    {
      "cell_type": "code",
      "execution_count": 9,
      "metadata": {
        "colab": {
          "base_uri": "https://localhost:8080/",
          "height": 394
        },
        "id": "dOFItaTz0OfN",
        "outputId": "bca1461d-4ba7-44a0-bddf-e1339a88b808"
      },
      "outputs": [
        {
          "output_type": "display_data",
          "data": {
            "text/plain": [
              "<IPython.core.display.HTML object>"
            ],
            "text/html": [
              "<h2>P100</h2>"
            ]
          },
          "metadata": {}
        },
        {
          "output_type": "stream",
          "name": "stdout",
          "text": [
            "Fri Sep 30 05:17:23 2022       \n",
            "+-----------------------------------------------------------------------------+\n",
            "| NVIDIA-SMI 460.32.03    Driver Version: 460.32.03    CUDA Version: 11.2     |\n",
            "|-------------------------------+----------------------+----------------------+\n",
            "| GPU  Name        Persistence-M| Bus-Id        Disp.A | Volatile Uncorr. ECC |\n",
            "| Fan  Temp  Perf  Pwr:Usage/Cap|         Memory-Usage | GPU-Util  Compute M. |\n",
            "|                               |                      |               MIG M. |\n",
            "|===============================+======================+======================|\n",
            "|   0  Tesla P100-PCIE...  Off  | 00000000:00:04.0 Off |                    0 |\n",
            "| N/A   45C    P0    35W / 250W |   6339MiB / 16280MiB |      0%      Default |\n",
            "|                               |                      |                  N/A |\n",
            "+-------------------------------+----------------------+----------------------+\n",
            "                                                                               \n",
            "+-----------------------------------------------------------------------------+\n",
            "| Processes:                                                                  |\n",
            "|  GPU   GI   CI        PID   Type   Process name                  GPU Memory |\n",
            "|        ID   ID                                                   Usage      |\n",
            "|=============================================================================|\n",
            "+-----------------------------------------------------------------------------+\n"
          ]
        }
      ],
      "source": [
        "from IPython.display import HTML\n",
        "from subprocess import getoutput\n",
        "gpu_type = getoutput('nvidia-smi')\n",
        "if 'K80' in gpu_type:\n",
        "  gpu = 'K80'\n",
        "elif 'T4' in gpu_type:\n",
        "  gpu = 'T4'\n",
        "elif 'P100' in gpu_type:\n",
        "  gpu = 'P100'\n",
        "display(HTML(f\"<h2>{gpu}</h2>\"))\n",
        "print(gpu_type)"
      ]
    },
    {
      "cell_type": "code",
      "source": [
        "!pip install pynvml\n",
        "!git clone https://github.com/rapidsai/rapidsai-csp-utils.git\n",
        "!python rapidsai-csp-utils/colab/env-check.py\n",
        "!pip install --upgrade networkx\n",
        "!sudo apt-get install graphviz libgraphviz-dev pkg-config\n",
        "!sudo pip install pygraphviz"
      ],
      "metadata": {
        "colab": {
          "base_uri": "https://localhost:8080/"
        },
        "id": "HfnewHDr2SQe",
        "outputId": "e89b20ae-bba3-4b04-b5eb-52bc462641a6"
      },
      "execution_count": null,
      "outputs": [
        {
          "output_type": "stream",
          "name": "stdout",
          "text": [
            "Looking in indexes: https://pypi.org/simple, https://us-python.pkg.dev/colab-wheels/public/simple/\n",
            "Requirement already satisfied: pynvml in /usr/local/lib/python3.7/site-packages (11.4.1)\n",
            "\u001b[33mWARNING: Running pip as the 'root' user can result in broken permissions and conflicting behaviour with the system package manager. It is recommended to use a virtual environment instead: https://pip.pypa.io/warnings/venv\u001b[0m\u001b[33m\n",
            "\u001b[0mfatal: destination path 'rapidsai-csp-utils' already exists and is not an empty directory.\n",
            "***********************************************************************\n",
            "Woo! Your instance has the right kind of GPU, a Tesla P100-PCIE-16GB!\n",
            "***********************************************************************\n",
            "\n",
            "Traceback (most recent call last):\n",
            "  File \"/usr/local/bin/pip\", line 10, in <module>\n",
            "  File \"/usr/local/lib/python3.7/site-packages/pip/_internal/cli/main.py\", line 68, in main\n",
            "    command = create_command(cmd_name, isolated=(\"--isolated\" in cmd_args))\n",
            "  File \"/usr/local/lib/python3.7/site-packages/pip/_internal/commands/__init__.py\", line 114, in create_command\n",
            "    module = importlib.import_module(module_path)\n",
            "  File \"/usr/local/lib/python3.7/importlib/__init__.py\", line 127, in import_module\n",
            "    return _bootstrap._gcd_import(name[level:], package, level)\n",
            "  File \"<frozen importlib._bootstrap>\", line 1006, in _gcd_import\n",
            "  File \"<frozen importlib._bootstrap>\", line 983, in _find_and_load\n",
            "  File \"<frozen importlib._bootstrap>\", line 967, in _find_and_load_unlocked\n",
            "  File \"<frozen importlib._bootstrap>\", line 677, in _load_unlocked\n",
            "  File \"<frozen importlib._bootstrap_external>\", line 728, in exec_module\n",
            "  File \"<frozen importlib._bootstrap>\", line 219, in _call_with_frames_removed\n",
            "  File \"/usr/local/lib/python3.7/site-packages/pip/_internal/commands/install.py\", line 16, in <module>\n",
            "    from pip._internal.cli.req_command import (\n",
            "  File \"/usr/local/lib/python3.7/site-packages/pip/_internal/cli/req_command.py\", line 21, in <module>\n",
            "    from pip._internal.index.package_finder import PackageFinder\n",
            "  File \"/usr/local/lib/python3.7/site-packages/pip/_internal/index/package_finder.py\", line 33, in <module>\n",
            "    from pip._internal.req import InstallRequirement\n",
            "  File \"/usr/local/lib/python3.7/site-packages/pip/_internal/req/__init__.py\", line 7, in <module>\n",
            "    from .req_file import parse_requirements\n",
            "  File \"/usr/local/lib/python3.7/site-packages/pip/_internal/req/req_file.py\", line 44, in <module>\n",
            "    SCHEME_RE = re.compile(r\"^(http|https|file):\", re.I)\n",
            "  File \"/usr/local/lib/python3.7/re.py\", line 236, in compile\n",
            "    return _compile(pattern, flags)\n",
            "  File \"/usr/local/lib/python3.7/re.py\", line 288, in _compile\n",
            "    p = sre_compile.compile(pattern, flags)\n",
            "  File \"/usr/local/lib/python3.7/sre_compile.py\", line 764, in compile\n",
            "    p = sre_parse.parse(p, flags)\n",
            "  File \"/usr/local/lib/python3.7/sre_parse.py\", line 924, in parse\n",
            "    p = _parse_sub(source, pattern, flags & SRE_FLAG_VERBOSE, 0)\n",
            "  File \"/usr/local/lib/python3.7/sre_parse.py\", line 420, in _parse_sub\n",
            "    not nested and not items))\n",
            "  File \"/usr/local/lib/python3.7/sre_parse.py\", line 805, in _parse\n",
            "    group = state.opengroup(name)\n",
            "  File \"/usr/local/lib/python3.7/sre_parse.py\", line 86, in opengroup\n",
            "    self.groupwidths.append(None)\n",
            "KeyboardInterrupt\n"
          ]
        }
      ]
    },
    {
      "cell_type": "code",
      "source": [
        "!bash rapidsai-csp-utils/colab/update_gcc.sh\n",
        "import os\n",
        "os._exit(00)"
      ],
      "metadata": {
        "id": "oFIV0p9v2VGM"
      },
      "execution_count": null,
      "outputs": []
    },
    {
      "cell_type": "code",
      "source": [
        "import condacolab\n",
        "condacolab.install()"
      ],
      "metadata": {
        "id": "biwI7s302VUI"
      },
      "execution_count": null,
      "outputs": []
    },
    {
      "cell_type": "code",
      "source": [
        "import condacolab\n",
        "condacolab.check()"
      ],
      "metadata": {
        "id": "0sP65mqK2aOD"
      },
      "execution_count": null,
      "outputs": []
    },
    {
      "cell_type": "code",
      "source": [
        "!python rapidsai-csp-utils/colab/install_rapids.py stable\n",
        "import os\n",
        "os.environ['NUMBAPRO_NVVM'] = '/usr/local/cuda/nvvm/lib64/libnvvm.so'\n",
        "os.environ['NUMBAPRO_LIBDEVICE'] = '/usr/local/cuda/nvvm/libdevice/'\n",
        "os.environ['CONDA_PREFIX'] = '/usr/local'"
      ],
      "metadata": {
        "id": "Nh-tSPSA53EX"
      },
      "execution_count": null,
      "outputs": []
    },
    {
      "cell_type": "code",
      "source": [
        "from google.colab import drive\n",
        "drive.mount('/content/drive/')"
      ],
      "metadata": {
        "id": "MTUSd888LSpl"
      },
      "execution_count": null,
      "outputs": []
    },
    {
      "cell_type": "code",
      "source": [
        "import cudf\n",
        "import cugraph\n",
        "import pandas as pd\n",
        "import networkx as nx\n",
        "\n",
        "FIXED = True\n",
        "EXPORTED = True\n",
        "\n",
        "if not FIXED:   \n",
        "  stream_df = pd.read_csv('/content/drive/MyDrive/stream_big_edgelist.csv', names=['Source', 'Target', 'Weight', 'Retweet', 'Reply', 'Quote', 'Mention'])\n",
        "  stream_df['Weight'] = stream_df['Weight'].map(lambda y: [int(x) for x in y.split() if x.isdigit()][0])\n",
        "  stream_df['Retweet'] = stream_df['Retweet'].map(lambda y: [int(x) for x in y.split() if x.isdigit()][0])\n",
        "  stream_df['Reply'] = stream_df['Reply'].map(lambda y: [int(x) for x in y.split() if x.isdigit()][0])\n",
        "  stream_df['Quote'] = stream_df['Quote'].map(lambda y: [int(x) for x in y.split() if x.isdigit()][0])\n",
        "  stream_df.to_csv('/content/drive/MyDrive/stream_big_edgelist.csv')\n",
        "if not EXPORTED:\n",
        "  stream_df = pd.read_csv('/content/drive/MyDrive/stream_big_edgelist.csv', names=['Source', 'Target', 'Weight', 'Retweet', 'Reply', 'Quote', 'Mention'], dtype='string')\n",
        "  stream_df = stream_df.drop(['Mention'], axis=1)\n",
        "  net = nx.from_pandas_edgelist(stream_df, source=\"Source\", target=\"Target\", edge_attr='Weight')\n",
        "  nx.write_gexf(net, \"test.gexf\")\n",
        "if FIXED and EXPORTED:  \n",
        "  graph = nx.read_gexf('/content/drive/MyDrive/test.gexf', )"
      ],
      "metadata": {
        "id": "B4rr3OZD6R22"
      },
      "execution_count": 2,
      "outputs": []
    },
    {
      "cell_type": "markdown",
      "source": [
        "# Centrality"
      ],
      "metadata": {
        "id": "W3UoccCPKRnt"
      }
    },
    {
      "cell_type": "code",
      "source": [
        "stream_df = pd.read_csv('/content/drive/MyDrive/stream_big_edgelist.csv', names=['Source', 'Target', 'Weight', 'Retweet', 'Reply', 'Quote', 'Mention'], dtype='string')\n",
        "stream_df = stream_df.drop(['Mention'], axis=1)\n",
        "stream_df = stream_df.iloc[1: , :]\n",
        "print(stream_df.head())\n",
        "net = cugraph.from_pandas_edgelist(stream_df, source=\"Source\", destination=\"Target\", edge_attr='Weight')"
      ],
      "metadata": {
        "colab": {
          "base_uri": "https://localhost:8080/"
        },
        "id": "_msEicoEVpj6",
        "outputId": "94a5cf31-c378-42a3-cfdd-50d2b0c4f848"
      },
      "execution_count": 3,
      "outputs": [
        {
          "output_type": "stream",
          "name": "stdout",
          "text": [
            "          Source           Target Weight Retweet Reply Quote\n",
            "0  antti_ellonen       EndGameWW3      1       1     0     0\n",
            "1     EndGameWW3     CarlaBabbVOA      1       1     0     0\n",
            "2     EndGameWW3     laraseligman      1       1     0     0\n",
            "3     EndGameWW3  PentagonPresSec      1       0     0     0\n",
            "4     EndGameWW3        Liveuamap      1       1     0     0\n"
          ]
        }
      ]
    },
    {
      "cell_type": "code",
      "source": [
        "CALCULATED = True\n",
        "if not CALCULATED:\n",
        "  bc = cugraph.betweenness_centrality(net, 100000)\n",
        "  print(bc)\n",
        "  bc.to_csv('/content/drive/MyDrive/betweenness_centrality.csv')\n",
        "elif CALCULATED:\n",
        "  bc = pd.read_csv('/content/drive/MyDrive/betweenness_centrality.csv')"
      ],
      "metadata": {
        "id": "T8iSeQaQJuMq"
      },
      "execution_count": 4,
      "outputs": []
    },
    {
      "cell_type": "markdown",
      "source": [
        "# Community detection"
      ],
      "metadata": {
        "id": "2ouZ4UcLKel-"
      }
    },
    {
      "cell_type": "code",
      "source": [
        "if not CALCULATED:\n",
        "  spmmc = cugraph.spectralModularityMaximizationClustering(net, 5)\n",
        "\n",
        "  spmmc.to_csv('/content/drive/MyDrive/SPMMC.csv')\n",
        "elif CALCULATED:\n",
        "  spmmc = cudf.read_csv('/content/drive/MyDrive/SPMMC.csv')\n",
        "#spmmc = spmmc.loc[:, ~spmmc.columns.str.contains('^Unnamed')]\n",
        "print(spmmc.head())"
      ],
      "metadata": {
        "id": "lGocFjtqYBnN",
        "colab": {
          "base_uri": "https://localhost:8080/"
        },
        "outputId": "f0e4709b-141b-41ba-b8a3-f0bb7a07f849"
      },
      "execution_count": 5,
      "outputs": [
        {
          "output_type": "stream",
          "name": "stdout",
          "text": [
            "   Unnamed: 0  cluster           vertex\n",
            "0           0        0      SuzietheLip\n",
            "1           1        0        4USIDream\n",
            "2           2        0     maggiemae362\n",
            "3           3        0       AussieYazz\n",
            "4           4        0  beukes_clifford\n"
          ]
        }
      ]
    },
    {
      "cell_type": "code",
      "source": [
        "if not CALCULATED:\n",
        "  parts = cugraph.ecg(net)\n",
        "  parts.to_csv('/content/drive/MyDrive/ECG.csv')\n",
        "elif CALCULATED:\n",
        "  parts = cudf.read_csv('/content/drive/MyDrive/ECG.csv')\n",
        "#parts = parts.loc[:, ~parts.columns.str.contains('^Unnamed')]\n",
        "print(parts.head())"
      ],
      "metadata": {
        "colab": {
          "base_uri": "https://localhost:8080/"
        },
        "id": "mA1-KmgsK36w",
        "outputId": "6ed6fdd5-0e94-4935-af2a-bbef63c45931"
      },
      "execution_count": 6,
      "outputs": [
        {
          "output_type": "stream",
          "name": "stdout",
          "text": [
            "   Unnamed: 0  partition           vertex\n",
            "0           0        463      SuzietheLip\n",
            "1           1        189        4USIDream\n",
            "2           2         89     maggiemae362\n",
            "3           3         55       AussieYazz\n",
            "4           4        317  beukes_clifford\n"
          ]
        }
      ]
    },
    {
      "cell_type": "code",
      "source": [
        "if not CALCULATED:\n",
        "  sbcc = cugraph.spectralBalancedCutClustering(net, 10)\n",
        "  sbcc.to_csv('/content/drive/MyDrive/SBCC.csv')\n",
        "elif CALCULATED:\n",
        "  sbcc = cudf.read_csv('/content/drive/MyDrive/SBCC.csv')\n",
        "\n",
        "#sbcc = sbcc.loc[:, ~sbcc.columns.str.contains('^Unnamed')]\n",
        "print(sbcc.head())"
      ],
      "metadata": {
        "colab": {
          "base_uri": "https://localhost:8080/"
        },
        "id": "SAbVtva-Z58Y",
        "outputId": "ca99c479-2831-43a7-b99f-38f2aa2ab78a"
      },
      "execution_count": 7,
      "outputs": [
        {
          "output_type": "stream",
          "name": "stdout",
          "text": [
            "   Unnamed: 0  cluster           vertex\n",
            "0           0        6      SuzietheLip\n",
            "1           1        6        4USIDream\n",
            "2           2        6     maggiemae362\n",
            "3           3        6       AussieYazz\n",
            "4           4        6  beukes_clifford\n"
          ]
        }
      ]
    },
    {
      "cell_type": "markdown",
      "source": [
        "# Seperate tweets from different communities into their own dataframes"
      ],
      "metadata": {
        "id": "wv84dkGk_Z7F"
      }
    },
    {
      "cell_type": "code",
      "source": [
        "tweets_df = cudf.read_csv('/content/drive/MyDrive/ukraine_stream_big.csv')\n",
        "#!sudo apt install python3-cffi\n",
        "#!pip install --upgrade cffi==1.15.1"
      ],
      "metadata": {
        "id": "F9k8FPV-NeCG"
      },
      "execution_count": 8,
      "outputs": []
    },
    {
      "cell_type": "code",
      "source": [
        "import time\n",
        "from IPython.display import clear_output\n",
        "\n",
        "for community in [0, 1, 2, 3, 4]:\n",
        "  community_list = []\n",
        "  community_df = spmmc[spmmc['cluster'] == community]\n",
        "  for index in range(community_df.shape[0]):\n",
        "    row = community_df.iloc[index]\n",
        "    cluster, username = row['cluster'].iloc[0], row['vertex'].iloc[0]\n",
        "    username_df = tweets_df[tweets_df['author.username'] == username]\n",
        "    community_list.append(username_df)\n",
        "\n",
        "  community_total = cudf.concat(community_list)\n",
        "  print(community_total.head())\n",
        "  community_total.to_csv(f'/content/drive/MyDrive/communities_SPMMC/{community}/community.csv')"
      ],
      "metadata": {
        "id": "CU7QX5puNoxO"
      },
      "execution_count": null,
      "outputs": []
    },
    {
      "cell_type": "code",
      "source": [
        "for community in [0, 1, 2, 3, 4, 5, 6, 7, 8, 9]:\n",
        "  community_list = []\n",
        "  community_df = sbcc[sbcc['cluster'] == community]\n",
        "  for index in range(community_df.shape[0]):\n",
        "    row = community_df.iloc[index]\n",
        "    cluster, username = row['cluster'].iloc[0], row['vertex'].iloc[0]\n",
        "    username_df = tweets_df[tweets_df['author.username'] == username]\n",
        "    community_list.append(username_df)\n",
        "\n",
        "  community_total = cudf.concat(community_list)\n",
        "  print(community_total.head())\n",
        "  community_total.to_csv(f'/content/drive/MyDrive/communities_SBCC/{community}/community.csv')"
      ],
      "metadata": {
        "id": "J_o2cN4f_j1r"
      },
      "execution_count": null,
      "outputs": []
    }
  ]
}